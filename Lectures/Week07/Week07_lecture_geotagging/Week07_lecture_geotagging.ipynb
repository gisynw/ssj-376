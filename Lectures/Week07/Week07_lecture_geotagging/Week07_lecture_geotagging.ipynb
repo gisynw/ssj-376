{
 "cells": [
  {
   "cell_type": "code",
   "execution_count": null,
   "metadata": {},
   "outputs": [],
   "source": [
    "import matplotlib.pyplot as plt\n",
    "from sqlalchemy import create_engine\n",
    "from sqlalchemy import inspect\n",
    "from sqlalchemy import text\n",
    "import os\n",
    "import geopandas as gpd"
   ]
  },
  {
   "cell_type": "code",
   "execution_count": null,
   "metadata": {},
   "outputs": [],
   "source": [
    "host = 'localhost'\n",
    "database = 'spatial'\n",
    "user = 'postgres'\n",
    "port = '5432'\n",
    "password = os.getenv('SQL_PASSWORD')"
   ]
  },
  {
   "cell_type": "code",
   "execution_count": null,
   "metadata": {},
   "outputs": [],
   "source": [
    "connection_string = f\"postgresql://{user}:{password}@{host}:{port}/{database}\""
   ]
  },
  {
   "cell_type": "code",
   "execution_count": null,
   "metadata": {},
   "outputs": [],
   "source": [
    "engine = create_engine(connection_string)\n",
    "insp = inspect(engine)\n",
    "insp.get_table_names()"
   ]
  },
  {
   "cell_type": "markdown",
   "metadata": {},
   "source": [
    "## Streets in MA"
   ]
  },
  {
   "cell_type": "code",
   "execution_count": null,
   "metadata": {},
   "outputs": [],
   "source": [
    "text_road = \"\"\" SELECT * FROM ch09.road\"\"\"\n",
    "road = gpd.read_postgis(text_road, con=engine)\n",
    "\n",
    "fig, ax = plt.subplots(figsize=(12, 10))\n",
    "road.plot(ax=ax, color = 'grey')"
   ]
  },
  {
   "cell_type": "markdown",
   "metadata": {},
   "source": [
    "## Parcel"
   ]
  },
  {
   "cell_type": "code",
   "execution_count": null,
   "metadata": {},
   "outputs": [],
   "source": [
    "text_road = \"\"\" SELECT * FROM ch09.road\"\"\"\n",
    "road = gpd.read_postgis(text_road, con=engine)\n",
    "\n",
    "text_land = \"\"\" SELECT * FROM ch09.land\"\"\"\n",
    "land = gpd.read_postgis(text_land, con=engine)\n",
    "# Get bounding box of land to zoom in\n",
    "xmin, ymin, xmax, ymax = land.total_bounds\n",
    "\n",
    "fig, ax = plt.subplots(figsize=(12, 10))\n",
    "buffer = 20000\n",
    "ax.set_xlim(xmin -  buffer, xmax + buffer)\n",
    "ax.set_ylim(ymin - buffer, ymax + buffer)\n",
    "\n",
    "land.plot(ax=ax, color = 'blue')\n",
    "road.plot(ax=ax, color = 'grey')"
   ]
  },
  {
   "cell_type": "markdown",
   "metadata": {},
   "source": [
    "## Snap points on the road to Parcel"
   ]
  },
  {
   "cell_type": "code",
   "execution_count": null,
   "metadata": {},
   "outputs": [],
   "source": [
    "text_snap_point= \"\"\"SELECT DISTINCT ON (land.pid)\n",
    "land.addr_num || ' ' || full_str AS parcel,\n",
    "road.road_name AS road,\n",
    "ST_ClosestPoint(land.geom,road.geom) As geom\n",
    "\n",
    "FROM ch09.land AS land INNER JOIN ch09.road AS road\n",
    "ON ST_DWithin(land.geom,road.geom,20.0)\n",
    "ORDER BY land.pid, ST_Distance(land.geom,road.geom);\"\"\"\n",
    "\n",
    "snap_point = gpd.read_postgis(text_snap_point, con=engine)\n",
    "\n",
    "print(snap_point.head(n = 5))\n",
    "\n",
    "text_land = \"\"\" SELECT * FROM ch09.land\"\"\"\n",
    "land = gpd.read_postgis(text_land, con=engine)\n",
    "fig, ax = plt.subplots(figsize=(12, 10))\n",
    "\n",
    "snap_point.plot(ax=ax, color = 'red')\n",
    "land.plot(ax=ax, color = 'black')"
   ]
  },
  {
   "cell_type": "markdown",
   "metadata": {},
   "source": [
    "## Clustering: k_means"
   ]
  },
  {
   "cell_type": "code",
   "execution_count": null,
   "metadata": {},
   "outputs": [],
   "source": [
    "text_cluster = \"\"\"SELECT land.pid, land.geom,\n",
    "land.addr_num || ' ' || full_str AS address,\n",
    "ST_ClusterKMeans(land.geom, 4) OVER() AS kcluster,\n",
    "ST_ClusterDBSCAN(land.geom, 15, 2) OVER() AS dcluster\n",
    "FROM ch09.land AS land;\"\"\"\n",
    "\n",
    "cluster = gpd.read_postgis(text_cluster, con = engine)\n",
    "\n",
    "# Plot the clusters based on kcluster column\n",
    "fig, ax = plt.subplots(figsize=(10, 8))\n",
    "cluster.plot(column=\"kcluster\", cmap=\"tab10\", edgecolor=\"none\", alpha=0.75, ax=ax)"
   ]
  },
  {
   "cell_type": "markdown",
   "metadata": {},
   "source": [
    "## DBScan clustering"
   ]
  },
  {
   "cell_type": "code",
   "execution_count": null,
   "metadata": {},
   "outputs": [],
   "source": [
    "# Plot the clusters based on kcluster column\n",
    "fig, ax = plt.subplots(figsize=(10, 8))\n",
    "cluster.plot(column=\"dcluster\", cmap=\"tab10\", edgecolor=\"none\", alpha=0.75, ax=ax)"
   ]
  }
 ],
 "metadata": {
  "kernelspec": {
   "display_name": "sql",
   "language": "python",
   "name": "python3"
  },
  "language_info": {
   "codemirror_mode": {
    "name": "ipython",
    "version": 3
   },
   "file_extension": ".py",
   "mimetype": "text/x-python",
   "name": "python",
   "nbconvert_exporter": "python",
   "pygments_lexer": "ipython3",
   "version": "3.9.21"
  }
 },
 "nbformat": 4,
 "nbformat_minor": 2
}
