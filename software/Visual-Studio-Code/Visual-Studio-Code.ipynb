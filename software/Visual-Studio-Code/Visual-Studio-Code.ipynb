{
 "cells": [
  {
   "cell_type": "markdown",
   "metadata": {},
   "source": [
    "# Visual Studio Code\n",
    "It is a free source code editor developed by Microsoft. It supports a wide range of programming languages and frameworks, offering features like syntax highlighting, debuging, integrated Git Control, and extensions to enhance functionality."
   ]
  },
  {
   "cell_type": "markdown",
   "metadata": {},
   "source": [
    "## Installation\n",
    "### Install [Visual Studio Code](https://code.visualstudio.com/)"
   ]
  }
 ],
 "metadata": {
  "language_info": {
   "name": "python"
  }
 },
 "nbformat": 4,
 "nbformat_minor": 2
}
