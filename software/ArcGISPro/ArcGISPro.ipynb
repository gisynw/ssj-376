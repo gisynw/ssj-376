{
 "cells": [
  {
   "cell_type": "markdown",
   "metadata": {},
   "source": [
    "### Set up ArcGIS Pro Account\n",
    "You should get an invitation email to set up your ArcGIS account\n",
    "\n",
    "The account is composed by your user name and clarku, e.g., yanawu_clarku. "
   ]
  },
  {
   "cell_type": "markdown",
   "metadata": {},
   "source": [
    "### Log in ArcGIS Online\n",
    "\n",
    "- Log in [ArcGIS Online](https://www.arcgis.com/)\n",
    "\n",
    "- At the top of the page, click your username and click My settings.\n",
    "\n",
    "- On the My settings page, click the Licenses side tab\n",
    "\n",
    "- Next to ArcGIS Pro, click Download ArcGIS Pro (If you don't see ArcGIS Pro listed under your licensed products, please contact HelpDesk and JoDolan@clarku.edu).\n",
    "\n",
    "- In the Download ArcGIS Pro window, review the language setting. To download a localized version of ArcGIS Pro, change the setting to the language you want.\n",
    "\n",
    "- Click Download.\n",
    "An executable file (.exe) is downloaded to your computer."
   ]
  },
  {
   "cell_type": "code",
   "execution_count": null,
   "metadata": {},
   "outputs": [],
   "source": []
  }
 ],
 "metadata": {
  "language_info": {
   "name": "python"
  }
 },
 "nbformat": 4,
 "nbformat_minor": 2
}
