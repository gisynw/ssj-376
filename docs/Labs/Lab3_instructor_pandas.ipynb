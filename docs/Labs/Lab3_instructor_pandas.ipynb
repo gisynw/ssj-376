{
 "cells": [
  {
   "cell_type": "markdown",
   "metadata": {},
   "source": [
    "<h3 style=\"text-align: center;\">Lab 03: Pandas</h3>\n",
    "\n",
    "- This lab covers the Pandas, including topics such as data cleaning, and data manipulation. \n",
    "\n",
    "- There are five questions in total. Please provide your code answers directly below each question.\n",
    "\n",
    "- Make sure to run all cells so that the answers are stored. Once completed, export your .ipynb file as either **HTML** or **PDF**, **ensuring that all answers are included**. Submit the HTML or PDF file to Canvas by **midnight (11:29 PM) on September 22**.\n",
    "\n",
    "- This lab is worth a total of **65 points** and contributes **6.5%** toward the final grade."
   ]
  },
  {
   "cell_type": "markdown",
   "metadata": {},
   "source": [
    "### 1. Provide the code to read in the data into DataFrames."
   ]
  },
  {
   "cell_type": "code",
   "execution_count": 3,
   "metadata": {},
   "outputs": [
    {
     "name": "stderr",
     "output_type": "stream",
     "text": [
      "C:\\Users\\yanawu\\AppData\\Local\\Temp\\ipykernel_23592\\460139338.py:2: DtypeWarning: Columns (31) have mixed types. Specify dtype option on import or set low_memory=False.\n",
      "  crash_data = pd.read_csv(r'D:\\Teaching_Data\\vehicle_crashes.csv')\n"
     ]
    }
   ],
   "source": [
    "import pandas as pd\n",
    "crash_data = pd.read_csv(r'D:\\Teaching_Data\\vehicle_crashes.csv')"
   ]
  },
  {
   "cell_type": "markdown",
   "metadata": {},
   "source": [
    "#### 1.1  Access data Part 1\n",
    "\n",
    "- How many rows and columns are present in the DataFrame?"
   ]
  },
  {
   "cell_type": "code",
   "execution_count": 4,
   "metadata": {},
   "outputs": [
    {
     "data": {
      "text/plain": [
       "(6802, 149)"
      ]
     },
     "execution_count": 4,
     "metadata": {},
     "output_type": "execute_result"
    }
   ],
   "source": [
    "crash_data.shape"
   ]
  },
  {
   "cell_type": "markdown",
   "metadata": {},
   "source": [
    "#### 1.2 Access data\n",
    "\n",
    "- Print the name of all the columns in the DataFrame"
   ]
  },
  {
   "cell_type": "code",
   "execution_count": 5,
   "metadata": {},
   "outputs": [
    {
     "data": {
      "text/plain": [
       "Index(['OBJECTID_1', 'CRASH_NUMB', 'CITY_TOWN_', 'CRASH_DATE', 'CRASH_DA_1',\n",
       "       'CRASH_STAT', 'CRASH_SEVE', 'MAX_INJR_S', 'NUMB_VEHC', 'NUMB_NONFA',\n",
       "       ...\n",
       "       'VEHICLE_VI', 'DRIVER_VIO', 'NON_MTRS_3', 'NON_MTRS_4', 'NON_MTRS_5',\n",
       "       'NON_MTRS_6', 'NON_MTRS_7', 'NON_MTRS_8', 'TRAFFIC_CO', 'SHAPE_1'],\n",
       "      dtype='object', length=149)"
      ]
     },
     "execution_count": 5,
     "metadata": {},
     "output_type": "execute_result"
    }
   ],
   "source": [
    "crash_data.columns"
   ]
  },
  {
   "cell_type": "markdown",
   "metadata": {},
   "source": [
    "#### 1.3 Data Cleaning\n",
    "- Create a new Dataframe only include below columns\n",
    "\n",
    "'CRASH_DA_1', 'CRASH_SEVE', 'NUMB_VEHC', 'STREETNAME'\n",
    " \n",
    "- Print the first 8 rows using .head():"
   ]
  },
  {
   "cell_type": "code",
   "execution_count": 6,
   "metadata": {},
   "outputs": [
    {
     "data": {
      "text/html": [
       "<div>\n",
       "<style scoped>\n",
       "    .dataframe tbody tr th:only-of-type {\n",
       "        vertical-align: middle;\n",
       "    }\n",
       "\n",
       "    .dataframe tbody tr th {\n",
       "        vertical-align: top;\n",
       "    }\n",
       "\n",
       "    .dataframe thead th {\n",
       "        text-align: right;\n",
       "    }\n",
       "</style>\n",
       "<table border=\"1\" class=\"dataframe\">\n",
       "  <thead>\n",
       "    <tr style=\"text-align: right;\">\n",
       "      <th></th>\n",
       "      <th>CRASH_DA_1</th>\n",
       "      <th>CRASH_SEVE</th>\n",
       "      <th>NUMB_VEHC</th>\n",
       "      <th>STREETNAME</th>\n",
       "    </tr>\n",
       "  </thead>\n",
       "  <tbody>\n",
       "    <tr>\n",
       "      <th>0</th>\n",
       "      <td>1/5/2024</td>\n",
       "      <td>Property damage only (none injured)</td>\n",
       "      <td>2</td>\n",
       "      <td>INTERSTATE 290</td>\n",
       "    </tr>\n",
       "    <tr>\n",
       "      <th>1</th>\n",
       "      <td>1/5/2024</td>\n",
       "      <td>Property damage only (none injured)</td>\n",
       "      <td>2</td>\n",
       "      <td>INTERSTATE 290</td>\n",
       "    </tr>\n",
       "    <tr>\n",
       "      <th>2</th>\n",
       "      <td>1/7/2024</td>\n",
       "      <td>Property damage only (none injured)</td>\n",
       "      <td>2</td>\n",
       "      <td>INTERSTATE 290</td>\n",
       "    </tr>\n",
       "    <tr>\n",
       "      <th>3</th>\n",
       "      <td>1/7/2024</td>\n",
       "      <td>Property damage only (none injured)</td>\n",
       "      <td>2</td>\n",
       "      <td>INTERSTATE 290</td>\n",
       "    </tr>\n",
       "    <tr>\n",
       "      <th>4</th>\n",
       "      <td>1/2/2024</td>\n",
       "      <td>Property damage only (none injured)</td>\n",
       "      <td>3</td>\n",
       "      <td>INTERSTATE 290</td>\n",
       "    </tr>\n",
       "    <tr>\n",
       "      <th>5</th>\n",
       "      <td>1/2/2024</td>\n",
       "      <td>Property damage only (none injured)</td>\n",
       "      <td>3</td>\n",
       "      <td>INTERSTATE 290</td>\n",
       "    </tr>\n",
       "    <tr>\n",
       "      <th>6</th>\n",
       "      <td>1/2/2024</td>\n",
       "      <td>Property damage only (none injured)</td>\n",
       "      <td>3</td>\n",
       "      <td>INTERSTATE 290</td>\n",
       "    </tr>\n",
       "    <tr>\n",
       "      <th>7</th>\n",
       "      <td>1/4/2024</td>\n",
       "      <td>Property damage only (none injured)</td>\n",
       "      <td>3</td>\n",
       "      <td>INTERSTATE 290</td>\n",
       "    </tr>\n",
       "  </tbody>\n",
       "</table>\n",
       "</div>"
      ],
      "text/plain": [
       "  CRASH_DA_1                           CRASH_SEVE  NUMB_VEHC      STREETNAME\n",
       "0   1/5/2024  Property damage only (none injured)          2  INTERSTATE 290\n",
       "1   1/5/2024  Property damage only (none injured)          2  INTERSTATE 290\n",
       "2   1/7/2024  Property damage only (none injured)          2  INTERSTATE 290\n",
       "3   1/7/2024  Property damage only (none injured)          2  INTERSTATE 290\n",
       "4   1/2/2024  Property damage only (none injured)          3  INTERSTATE 290\n",
       "5   1/2/2024  Property damage only (none injured)          3  INTERSTATE 290\n",
       "6   1/2/2024  Property damage only (none injured)          3  INTERSTATE 290\n",
       "7   1/4/2024  Property damage only (none injured)          3  INTERSTATE 290"
      ]
     },
     "execution_count": 6,
     "metadata": {},
     "output_type": "execute_result"
    }
   ],
   "source": [
    "sub_crash = crash_data.loc[:, ['CRASH_DA_1', 'CRASH_SEVE', 'NUMB_VEHC', 'STREETNAME']]\n",
    "sub_crash.head(n=8)"
   ]
  },
  {
   "cell_type": "markdown",
   "metadata": {},
   "source": [
    "#### 1.4 Data Cleaning Part 2\n",
    "\n",
    "- Rename the column names \n",
    "\n",
    "'CRASH_DA_1' to 'CRASH_DATE'\n",
    "\n",
    "- Print column names"
   ]
  },
  {
   "cell_type": "code",
   "execution_count": 7,
   "metadata": {},
   "outputs": [
    {
     "data": {
      "text/plain": [
       "Index(['CRASH_DATE', 'CRASH_SEVE', 'NUMB_VEHC', 'STREETNAME'], dtype='object')"
      ]
     },
     "execution_count": 7,
     "metadata": {},
     "output_type": "execute_result"
    }
   ],
   "source": [
    "sub_crash.rename(columns={'CRASH_DA_1' :'CRASH_DATE'}, inplace=True)\n",
    "sub_crash.columns"
   ]
  },
  {
   "cell_type": "markdown",
   "metadata": {},
   "source": [
    "#### 1.5 Converting data type\n",
    " \n",
    "- Convert data type of CRASH_DATE to 'DateTime' and store it in a new column\n",
    "- Print the first 5 rows of the dataframe\n",
    "- Print a concise summary of dataframe"
   ]
  },
  {
   "cell_type": "code",
   "execution_count": 8,
   "metadata": {},
   "outputs": [],
   "source": [
    "sub_crash['DT'] = pd.to_datetime(sub_crash['CRASH_DATE'], format = \"%m/%d/%Y\")"
   ]
  },
  {
   "cell_type": "code",
   "execution_count": 9,
   "metadata": {},
   "outputs": [
    {
     "data": {
      "text/html": [
       "<div>\n",
       "<style scoped>\n",
       "    .dataframe tbody tr th:only-of-type {\n",
       "        vertical-align: middle;\n",
       "    }\n",
       "\n",
       "    .dataframe tbody tr th {\n",
       "        vertical-align: top;\n",
       "    }\n",
       "\n",
       "    .dataframe thead th {\n",
       "        text-align: right;\n",
       "    }\n",
       "</style>\n",
       "<table border=\"1\" class=\"dataframe\">\n",
       "  <thead>\n",
       "    <tr style=\"text-align: right;\">\n",
       "      <th></th>\n",
       "      <th>CRASH_DATE</th>\n",
       "      <th>CRASH_SEVE</th>\n",
       "      <th>NUMB_VEHC</th>\n",
       "      <th>STREETNAME</th>\n",
       "      <th>DT</th>\n",
       "    </tr>\n",
       "  </thead>\n",
       "  <tbody>\n",
       "    <tr>\n",
       "      <th>0</th>\n",
       "      <td>1/5/2024</td>\n",
       "      <td>Property damage only (none injured)</td>\n",
       "      <td>2</td>\n",
       "      <td>INTERSTATE 290</td>\n",
       "      <td>2024-01-05</td>\n",
       "    </tr>\n",
       "    <tr>\n",
       "      <th>1</th>\n",
       "      <td>1/5/2024</td>\n",
       "      <td>Property damage only (none injured)</td>\n",
       "      <td>2</td>\n",
       "      <td>INTERSTATE 290</td>\n",
       "      <td>2024-01-05</td>\n",
       "    </tr>\n",
       "    <tr>\n",
       "      <th>2</th>\n",
       "      <td>1/7/2024</td>\n",
       "      <td>Property damage only (none injured)</td>\n",
       "      <td>2</td>\n",
       "      <td>INTERSTATE 290</td>\n",
       "      <td>2024-01-07</td>\n",
       "    </tr>\n",
       "    <tr>\n",
       "      <th>3</th>\n",
       "      <td>1/7/2024</td>\n",
       "      <td>Property damage only (none injured)</td>\n",
       "      <td>2</td>\n",
       "      <td>INTERSTATE 290</td>\n",
       "      <td>2024-01-07</td>\n",
       "    </tr>\n",
       "    <tr>\n",
       "      <th>4</th>\n",
       "      <td>1/2/2024</td>\n",
       "      <td>Property damage only (none injured)</td>\n",
       "      <td>3</td>\n",
       "      <td>INTERSTATE 290</td>\n",
       "      <td>2024-01-02</td>\n",
       "    </tr>\n",
       "  </tbody>\n",
       "</table>\n",
       "</div>"
      ],
      "text/plain": [
       "  CRASH_DATE                           CRASH_SEVE  NUMB_VEHC      STREETNAME  \\\n",
       "0   1/5/2024  Property damage only (none injured)          2  INTERSTATE 290   \n",
       "1   1/5/2024  Property damage only (none injured)          2  INTERSTATE 290   \n",
       "2   1/7/2024  Property damage only (none injured)          2  INTERSTATE 290   \n",
       "3   1/7/2024  Property damage only (none injured)          2  INTERSTATE 290   \n",
       "4   1/2/2024  Property damage only (none injured)          3  INTERSTATE 290   \n",
       "\n",
       "          DT  \n",
       "0 2024-01-05  \n",
       "1 2024-01-05  \n",
       "2 2024-01-07  \n",
       "3 2024-01-07  \n",
       "4 2024-01-02  "
      ]
     },
     "execution_count": 9,
     "metadata": {},
     "output_type": "execute_result"
    }
   ],
   "source": [
    "sub_crash.head(n=5)"
   ]
  },
  {
   "cell_type": "code",
   "execution_count": 10,
   "metadata": {},
   "outputs": [
    {
     "name": "stdout",
     "output_type": "stream",
     "text": [
      "<class 'pandas.core.frame.DataFrame'>\n",
      "RangeIndex: 6802 entries, 0 to 6801\n",
      "Data columns (total 5 columns):\n",
      " #   Column      Non-Null Count  Dtype         \n",
      "---  ------      --------------  -----         \n",
      " 0   CRASH_DATE  6802 non-null   object        \n",
      " 1   CRASH_SEVE  6802 non-null   object        \n",
      " 2   NUMB_VEHC   6802 non-null   int64         \n",
      " 3   STREETNAME  6226 non-null   object        \n",
      " 4   DT          6802 non-null   datetime64[ns]\n",
      "dtypes: datetime64[ns](1), int64(1), object(3)\n",
      "memory usage: 265.8+ KB\n"
     ]
    }
   ],
   "source": [
    "sub_crash.info()"
   ]
  },
  {
   "cell_type": "markdown",
   "metadata": {},
   "source": [
    "#### 1.6 Aggregating Statistics\n",
    "- Grouping NUMB_VEHC based on STREETNAME\n",
    "- Sort the dataframe from largest value of NUMB_VEHC to smallest value of NUMB_VEHC based on aggregating statistics"
   ]
  },
  {
   "cell_type": "code",
   "execution_count": 11,
   "metadata": {},
   "outputs": [],
   "source": [
    "rst = sub_crash[[\"NUMB_VEHC\", \"STREETNAME\"]].groupby(\"STREETNAME\").sum()"
   ]
  },
  {
   "cell_type": "code",
   "execution_count": 12,
   "metadata": {},
   "outputs": [
    {
     "data": {
      "text/html": [
       "<div>\n",
       "<style scoped>\n",
       "    .dataframe tbody tr th:only-of-type {\n",
       "        vertical-align: middle;\n",
       "    }\n",
       "\n",
       "    .dataframe tbody tr th {\n",
       "        vertical-align: top;\n",
       "    }\n",
       "\n",
       "    .dataframe thead th {\n",
       "        text-align: right;\n",
       "    }\n",
       "</style>\n",
       "<table border=\"1\" class=\"dataframe\">\n",
       "  <thead>\n",
       "    <tr style=\"text-align: right;\">\n",
       "      <th></th>\n",
       "      <th>NUMB_VEHC</th>\n",
       "    </tr>\n",
       "    <tr>\n",
       "      <th>STREETNAME</th>\n",
       "      <th></th>\n",
       "    </tr>\n",
       "  </thead>\n",
       "  <tbody>\n",
       "    <tr>\n",
       "      <th>INTERSTATE 290</th>\n",
       "      <td>1185</td>\n",
       "    </tr>\n",
       "    <tr>\n",
       "      <th>MAIN STREET</th>\n",
       "      <td>736</td>\n",
       "    </tr>\n",
       "    <tr>\n",
       "      <th>PARK AVENUE</th>\n",
       "      <td>595</td>\n",
       "    </tr>\n",
       "    <tr>\n",
       "      <th>BELMONT STREET</th>\n",
       "      <td>385</td>\n",
       "    </tr>\n",
       "    <tr>\n",
       "      <th>GRAFTON STREET</th>\n",
       "      <td>377</td>\n",
       "    </tr>\n",
       "    <tr>\n",
       "      <th>...</th>\n",
       "      <td>...</td>\n",
       "    </tr>\n",
       "    <tr>\n",
       "      <th>SHAWMUT STREET</th>\n",
       "      <td>1</td>\n",
       "    </tr>\n",
       "    <tr>\n",
       "      <th>BETHANY STREET</th>\n",
       "      <td>1</td>\n",
       "    </tr>\n",
       "    <tr>\n",
       "      <th>TEMPLE STREET</th>\n",
       "      <td>1</td>\n",
       "    </tr>\n",
       "    <tr>\n",
       "      <th>BEVERLY ROAD</th>\n",
       "      <td>1</td>\n",
       "    </tr>\n",
       "    <tr>\n",
       "      <th>ABBOTT STREET</th>\n",
       "      <td>1</td>\n",
       "    </tr>\n",
       "  </tbody>\n",
       "</table>\n",
       "<p>524 rows × 1 columns</p>\n",
       "</div>"
      ],
      "text/plain": [
       "                NUMB_VEHC\n",
       "STREETNAME               \n",
       "INTERSTATE 290       1185\n",
       "MAIN STREET           736\n",
       "PARK AVENUE           595\n",
       "BELMONT STREET        385\n",
       "GRAFTON STREET        377\n",
       "...                   ...\n",
       "SHAWMUT STREET          1\n",
       "BETHANY STREET          1\n",
       "TEMPLE STREET           1\n",
       "BEVERLY ROAD            1\n",
       "ABBOTT STREET           1\n",
       "\n",
       "[524 rows x 1 columns]"
      ]
     },
     "execution_count": 12,
     "metadata": {},
     "output_type": "execute_result"
    }
   ],
   "source": [
    "rst.sort_values(by = 'NUMB_VEHC', ascending=False)"
   ]
  }
 ],
 "metadata": {
  "kernelspec": {
   "display_name": "pandas_vp",
   "language": "python",
   "name": "python3"
  },
  "language_info": {
   "codemirror_mode": {
    "name": "ipython",
    "version": 3
   },
   "file_extension": ".py",
   "mimetype": "text/x-python",
   "name": "python",
   "nbconvert_exporter": "python",
   "pygments_lexer": "ipython3",
   "version": "3.9.19"
  }
 },
 "nbformat": 4,
 "nbformat_minor": 2
}
