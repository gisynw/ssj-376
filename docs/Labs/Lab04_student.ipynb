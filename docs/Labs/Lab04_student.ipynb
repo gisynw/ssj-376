{
 "cells": [
  {
   "cell_type": "markdown",
   "metadata": {},
   "source": [
    "<h3 style=\"text-align: center;\">Lab 04: Arcpy</h3>\n",
    "\n",
    "- This lab covers the Arcpy, including topics such as SearchCursor, UpdateCursor and InsertCursor. \n",
    "\n",
    "- There are four questions in total. Please provide your code answers directly below each question.\n",
    "\n",
    "- Make sure to run all cells so that the answers are stored. Once completed, submit the .ipynb file (**ensuring that all answers are included**) to Canvas by **midnight (11:29 PM) on September 29**.\n",
    "\n",
    "- This lab is worth a total of **65 points** and contributes **6.5%** toward the final grade."
   ]
  },
  {
   "cell_type": "markdown",
   "metadata": {},
   "source": [
    "### 1. SearchCursor (20 points)\n",
    "using the arcpy.da.SearchCursor to retrieve and display information about each traffic accident. Specifically, your script should do the following:\n",
    "\n",
    "- Use a SearchCursor to iterate through the Vehicle_Crash feature class.\n",
    "- Retrieve the following fields:\n",
    "    - CRASH_DA_1 (the date of the crash)\n",
    "    - NUMB_VEHC (the number of vehicles involved in the crash).\n",
    "- Sort based on following field:\n",
    "    - NUMB_VEHC (the number of vehicles involved in the crash)\n",
    "- Print a statement for each crash that indicates the date and the number of vehicles involved in that accident in the following format:\n",
    "\n",
    "\"On [date], there are [number] vehicles that were involved in traffic accident.\""
   ]
  },
  {
   "cell_type": "markdown",
   "metadata": {},
   "source": [
    "### 2. Insert below new data using InsertCursor (20 points)\n",
    "- Using InsertCursor to add 'points_data' to the 'Vehicle'\n",
    "  - Note: Please ensure that your insert row and the feature class ('Vehicle') have the same column names."
   ]
  },
  {
   "cell_type": "markdown",
   "metadata": {},
   "source": [
    "### 3. Update  \"Vehicle_Crash_insert\" using UpdateCursor (20 points)\n",
    "- Add a new field named 'Vehicle_Class' of type 'Text' to 'Vehicle'.\n",
    "- Update Values:\n",
    "    - If 'NUMB_VEHC' is greater than or equal to 3, update the 'Vehicle_Class' to 'More'.\n",
    "    - If 'NUMB_VEHC' is less than 3, update 'Vehicle_Class' to 'Less'."
   ]
  },
  {
   "cell_type": "markdown",
   "metadata": {},
   "source": [
    "### 4. Statistics (5 points)\n",
    "Compute and print the proportions of \"More\" and \"Less\" classes as percentages based on 'Vehicle' (now for the \"Vehicle\" data, you should have inserted new rows and update the values.)"
   ]
  }
 ],
 "metadata": {
  "kernelspec": {
   "display_name": "ArcGISPro",
   "language": "Python",
   "name": "python3"
  },
  "language_info": {
   "file_extension": ".py",
   "name": "python",
   "version": "3"
  }
 },
 "nbformat": 4,
 "nbformat_minor": 2
}
