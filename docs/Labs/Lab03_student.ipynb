{
 "cells": [
  {
   "cell_type": "markdown",
   "metadata": {},
   "source": [
    "<h3 style=\"text-align: center;\">Lab 03: Pandas</h3>\n",
    "\n",
    "- This lab covers the Pandas, including topics such as data cleaning, and data manipulation. \n",
    "\n",
    "- There are five questions in total. Please provide your code answers directly below each question.\n",
    "\n",
    "- Make sure to run all cells so that the answers are stored. Once completed, export your .ipynb file as either **HTML** or **PDF**, **ensuring that all answers are included**. Submit the HTML or PDF file to Canvas by **midnight (11:29 PM) on September 22**.\n",
    "\n",
    "- __Read the vehicle_crashes.csv to finish the Lab 03.__ \n",
    "\n",
    "- This lab is worth a total of **65 points** and contributes **6.5%** toward the final grade."
   ]
  },
  {
   "cell_type": "markdown",
   "metadata": {},
   "source": [
    "### 1. Provide the code to read in the data into DataFrames."
   ]
  },
  {
   "cell_type": "markdown",
   "metadata": {},
   "source": [
    "#### 1.1  Access data Part 1 (10 points)\n",
    "\n",
    "- How many rows and columns are present in the DataFrame?"
   ]
  },
  {
   "cell_type": "markdown",
   "metadata": {},
   "source": [
    "#### 1.2 Access data Part 2 (10 points)\n",
    "\n",
    "- Print the name of all the columns in the DataFrame"
   ]
  },
  {
   "cell_type": "markdown",
   "metadata": {},
   "source": [
    "#### 1.3 Data Cleaning (10 points)\n",
    "- Create a new Dataframe only include below columns\n",
    "\n",
    "'CRASH_DA_1', 'CRASH_SEVE', 'NUMB_VEHC', 'STREETNAME'\n",
    " \n",
    "- Print the first 8 rows using .head():"
   ]
  },
  {
   "cell_type": "markdown",
   "metadata": {},
   "source": [
    "#### 1.4 Data Cleaning Part 2 (10 points)\n",
    "\n",
    "- Rename the column names \n",
    "\n",
    "'CRASH_DA_1' to 'CRASH_DATE'\n",
    "\n",
    "- Print column names"
   ]
  },
  {
   "cell_type": "markdown",
   "metadata": {},
   "source": [
    "#### 1.5 Converting data type (15 points)\n",
    " \n",
    "- Convert data type of CRASH_DATE to 'DateTime' and store it in a new column\n",
    "- Print the first 5 rows of the dataframe\n",
    "- Print a concise summary of dataframe"
   ]
  },
  {
   "cell_type": "markdown",
   "metadata": {},
   "source": [
    "#### 1.6 Aggregating Statistics (10 points)\n",
    "- Grouping NUMB_VEHC based on STREETNAME\n",
    "- Sort the dataframe from largest value of NUMB_VEHC to smallest value of NUMB_VEHC based on aggregating statistics"
   ]
  }
 ],
 "metadata": {
  "kernelspec": {
   "display_name": "pandas_vp",
   "language": "python",
   "name": "python3"
  },
  "language_info": {
   "codemirror_mode": {
    "name": "ipython",
    "version": 3
   },
   "file_extension": ".py",
   "mimetype": "text/x-python",
   "name": "python",
   "nbconvert_exporter": "python",
   "pygments_lexer": "ipython3",
   "version": "3.9.19"
  }
 },
 "nbformat": 4,
 "nbformat_minor": 2
}
