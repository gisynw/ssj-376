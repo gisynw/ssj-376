{
 "cells": [
  {
   "cell_type": "markdown",
   "metadata": {},
   "source": [
    "<iframe src=\"https://gisynw.github.io/ssj-302/Content/PythonProgrammingFall2024.pdf\" width=\"120%\" height=\"800\"></iframe>"
   ]
  },
  {
   "cell_type": "markdown",
   "metadata": {},
   "source": []
  }
 ],
 "metadata": {
  "language_info": {
   "name": "python"
  }
 },
 "nbformat": 4,
 "nbformat_minor": 2
}
