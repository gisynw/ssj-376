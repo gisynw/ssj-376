{
 "cells": [
  {
   "cell_type": "markdown",
   "metadata": {},
   "source": [
    "## Troubleshooting"
   ]
  },
  {
   "cell_type": "markdown",
   "metadata": {},
   "source": [
    "### Connection Timeout Experied\n",
    "\n",
    "The pgadmin can connect to server only when the server is running\n",
    "\n",
    "Check whether your server is running\n",
    "\n",
    "Windows\n",
    "\n",
    "Using Task Manager:\n",
    "\n",
    "- Open Task Manager (Ctrl + Shift + Esc).\n",
    "- Go to the Services tab.\n",
    "- Look for a service named postgresql-x.x (where x.x is your PostgreSQL version).\n",
    "- The status should be \"Running.\" If not, right-click and select Start."
   ]
  },
  {
   "cell_type": "code",
   "execution_count": null,
   "metadata": {
    "vscode": {
     "languageId": "plaintext"
    }
   },
   "outputs": [],
   "source": [
    "###"
   ]
  }
 ],
 "metadata": {
  "language_info": {
   "name": "python"
  }
 },
 "nbformat": 4,
 "nbformat_minor": 2
}
