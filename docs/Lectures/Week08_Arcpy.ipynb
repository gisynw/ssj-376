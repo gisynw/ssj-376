{
 "cells": [
  {
   "cell_type": "markdown",
   "metadata": {},
   "source": [
    "<a href=\"https://colab.research.google.com/github/gisynw/SSJ-302/blob/main/docs/Lectures/01-Arcpy-get-start.ipynb\" target=\"_blank\">\n",
    "  <img src=\"https://colab.research.google.com/assets/colab-badge.svg\" alt=\"Open in Colab\" style=\"height: 30px;\"/>\n",
    "</a>"
   ]
  },
  {
   "cell_type": "markdown",
   "metadata": {},
   "source": [
    "## What is ArcPy\n",
    "\n",
    "- [What is arcpy](http://desktop.arcgis.com/en/arcmap/latest/analyze/arcpy/what-is-arcpy-.htm)\n",
    "- `ArcPy` was introduced with `ArcGIS 10.0`\n",
    "- `ArcPy` is a collection of modules, classes and functions which give access to all the geoprocessing tools in `ArcGIS` from within `Python`\n",
    "- Most `geoprocessing` scripts will start with: **import arcpy**\n",
    "- Note: `ArcPy` replaces the older `arcgisscripting` module\n"
   ]
  },
  {
   "cell_type": "code",
   "execution_count": 1,
   "metadata": {},
   "outputs": [],
   "source": [
    "import arcpy"
   ]
  },
  {
   "cell_type": "markdown",
   "metadata": {},
   "source": [
    "## Setting Current Workspace\n",
    "\n",
    "After importing `ArcPy`, most scripts start with **setting a workspace** to retrieve and store files\n"
   ]
  },
  {
   "cell_type": "code",
   "execution_count": 2,
   "metadata": {},
   "outputs": [],
   "source": [
    "arcpy.env.workspace = r\".\\database\"\n",
    "arcpy.env.workspace = \"./database\"\n",
    "arcpy.env.workspace = \".\\\\database\""
   ]
  },
  {
   "cell_type": "markdown",
   "metadata": {},
   "source": [
    "In the code above `env` is a class and `workspace` is a property of this class\n",
    "\n",
    "```python\n",
    "arcpy.< class>.< property>\n",
    "```\n",
    "\n",
    "- [Read material about `arcpy.env`](https://desktop.arcgis.com/en/arcmap/latest/analyze/arcpy-classes/env.htm)\n"
   ]
  },
  {
   "cell_type": "code",
   "execution_count": 3,
   "metadata": {},
   "outputs": [
    {
     "data": {
      "text/plain": [
       "['.\\\\database\\\\results', '.\\\\database\\\\testdata.gdb']"
      ]
     },
     "execution_count": 3,
     "metadata": {},
     "output_type": "execute_result"
    }
   ],
   "source": [
    "arcpy.ListWorkspaces()"
   ]
  },
  {
   "cell_type": "code",
   "execution_count": 4,
   "metadata": {},
   "outputs": [
    {
     "data": {
      "text/plain": [
       "['amtrak_stations.shp',\n",
       " 'cities.shp',\n",
       " 'counties.shp',\n",
       " 'new_mexico.shp',\n",
       " 'railroads.shp',\n",
       " 'resultbuffers_poly.shp',\n",
       " 'resultLittlePolys.shp',\n",
       " 'resultWatersheds_polygon.shp']"
      ]
     },
     "execution_count": 4,
     "metadata": {},
     "output_type": "execute_result"
    }
   ],
   "source": [
    "arcpy.ListFeatureClasses()"
   ]
  },
  {
   "cell_type": "code",
   "execution_count": 5,
   "metadata": {},
   "outputs": [
    {
     "data": {
      "text/plain": [
       "['resultElevationFloat..tif',\n",
       " 'resultElevationFloat.tif',\n",
       " 'resultsElevationFloat.tif']"
      ]
     },
     "execution_count": 5,
     "metadata": {},
     "output_type": "execute_result"
    }
   ],
   "source": [
    "arcpy.ListRasters()"
   ]
  },
  {
   "cell_type": "markdown",
   "metadata": {},
   "source": [
    "Set `overwriteOutput` property\n"
   ]
  },
  {
   "cell_type": "code",
   "execution_count": 6,
   "metadata": {},
   "outputs": [],
   "source": [
    "arcpy.env.overwriteOutput = True"
   ]
  },
  {
   "cell_type": "markdown",
   "metadata": {},
   "source": [
    "Get a complete list of `properties`\n"
   ]
  },
  {
   "cell_type": "code",
   "execution_count": 7,
   "metadata": {},
   "outputs": [
    {
     "data": {
      "text/plain": [
       "['autoCommit',\n",
       " 'XYResolution',\n",
       " 'processingServerUser',\n",
       " 'gpuId',\n",
       " 'XYDomain',\n",
       " 'processingServerPassword',\n",
       " 'scratchWorkspace',\n",
       " 'recycleProcessingWorkers',\n",
       " 'cartographicPartitions',\n",
       " 'terrainMemoryUsage']"
      ]
     },
     "execution_count": 7,
     "metadata": {},
     "output_type": "execute_result"
    }
   ],
   "source": [
    "arcpy.env.cellSize = 30\n",
    "arcpy.ListEnvironments()[:10]"
   ]
  },
  {
   "cell_type": "markdown",
   "metadata": {},
   "source": [
    "## ArcPy Functions\n",
    "\n",
    "- All `geoprocessing tools` are `ArcPy` `functions`\n",
    "- Additional `ArcPy` functions:\n",
    "  1. listing data\n",
    "  2. Retrieving and setting properties\n",
    "  3. Many more…\n",
    "- General syntax\n",
    "  - `arcpy.< functionname>(< arguments>)`\n",
    "- [Documentation of ArcPy functions](https://desktop.arcgis.com/en/arcmap/latest/analyze/arcpy-functions/alphabetical-list-of-arcpy-functions.htm)\n"
   ]
  },
  {
   "cell_type": "code",
   "execution_count": 8,
   "metadata": {},
   "outputs": [
    {
     "data": {
      "text/plain": [
       "['ChangePointDetection_stpm',\n",
       " 'CreateSpaceTimeCube_stpm',\n",
       " 'CreateSpaceTimeCubeDefinedLocations_stpm',\n",
       " 'CreateSpaceTimeCubeMDRasterLayer_stpm',\n",
       " 'CurveFitForecast_stpm',\n",
       " 'DescribeSpaceTimeCube_stpm',\n",
       " 'EmergingHotSpotAnalysis_stpm',\n",
       " 'EvaluateForecastsByLocation_stpm',\n",
       " 'ExponentialSmoothingForecast_stpm',\n",
       " 'FillMissingValues_stpm']"
      ]
     },
     "execution_count": 8,
     "metadata": {},
     "output_type": "execute_result"
    }
   ],
   "source": [
    "arcpy.ListTools()[:10]"
   ]
  },
  {
   "cell_type": "markdown",
   "metadata": {},
   "source": [
    "## ArcPy Classes\n",
    "\n",
    "- Some `tool parameters` are complicated/detailed\n",
    "  - e.g. `coordinate system`\n",
    "- `ArcPy` `classes` are used to work with these parameters\n",
    "  - Classes are used to create objects\n",
    "  - Classes have `properties` and `methods`\n",
    "- General syntax\n",
    "  - `arcpy.< classname>(< parameters>)`\n",
    "- [Documentation for Arcpy classes](http://desktop.arcgis.com/en/arcmap/latest/analyze/arcpy-classes/alphabetical-list-of-arcpy-classes.htm)\n",
    "- [Feature classes](https://pro.arcgis.com/en/pro-app/latest/help/data/feature-classes/feature-classes.htm)\n",
    "- [Raster](https://pro.arcgis.com/en/pro-app/latest/arcpy/classes/raster-object.htm)\n"
   ]
  },
  {
   "cell_type": "code",
   "execution_count": 9,
   "metadata": {},
   "outputs": [
    {
     "name": "stdout",
     "output_type": "stream",
     "text": [
      "Field                Alias                Type            Is Editable  Required     Scale      Precision \n",
      "FID                  FID                  OID             0            1            0          0         \n",
      "Shape                Shape                Geometry        1            1            0          0         \n",
      "CITIESX020           CITIESX020           Double          1            0            0          11        \n",
      "FEATURE              FEATURE              String          1            0            0          0         \n",
      "NAME                 NAME                 String          1            0            0          0         \n",
      "POP_RANGE            POP_RANGE            String          1            0            0          0         \n",
      "POP_2000             POP_2000             Integer         1            0            0          8         \n",
      "FIPS55               FIPS55               String          1            0            0          0         \n",
      "COUNTY               COUNTY               String          1            0            0          0         \n",
      "FIPS                 FIPS                 String          1            0            0          0         \n",
      "STATE                STATE                String          1            0            0          0         \n",
      "STATE_FIPS           STATE_FIPS           String          1            0            0          0         \n",
      "DISPLAY              DISPLAY              SmallInteger    1            0            0          1         \n"
     ]
    }
   ],
   "source": [
    "feature_class = \"./database/cities.shp\"\n",
    "\n",
    "# Create a list of fields using the ListFields function\n",
    "fields = arcpy.ListFields(feature_class)\n",
    "\n",
    "# Print table header\n",
    "print(\"{:<20} {:<20} {:<15} {:<12} {:<12} {:<10} {:<10}\".format(\"Field\", \"Alias\", \"Type\", \"Is Editable\", \"Required\", \"Scale\", \"Precision\"))\n",
    "\n",
    "# Iterate through the list of fields\n",
    "for field in fields:\n",
    "    # Print field properties\n",
    "    print(\"{:<20} {:<20} {:<15} {:<12} {:<12} {:<10} {:<10}\".format(\n",
    "        field.name,\n",
    "        field.aliasName,\n",
    "        field.type,\n",
    "        field.editable,\n",
    "        field.required,\n",
    "        field.scale,\n",
    "        field.precision\n",
    "    ))"
   ]
  },
  {
   "cell_type": "markdown",
   "metadata": {},
   "source": [
    "The following example creates a `spatial reference object` based on an existing `.shp` file ‐ properties of this object can then be used\n"
   ]
  },
  {
   "cell_type": "code",
   "execution_count": 10,
   "metadata": {},
   "outputs": [
    {
     "name": "stdout",
     "output_type": "stream",
     "text": [
      "<geoprocessing describe data object object at 0x000001C2CBB5E670>\n"
     ]
    }
   ],
   "source": [
    "prjfile = \"railroads.shp\"\n",
    "info = arcpy.Describe(prjfile)\n",
    "print(info)"
   ]
  },
  {
   "cell_type": "code",
   "execution_count": 11,
   "metadata": {},
   "outputs": [
    {
     "name": "stdout",
     "output_type": "stream",
     "text": [
      "GCS_North_American_1983\n"
     ]
    }
   ],
   "source": [
    "spatialref = info.spatialReference\n",
    "myref = spatialref.name\n",
    "print(myref)"
   ]
  },
  {
   "cell_type": "markdown",
   "metadata": {},
   "source": [
    "## Using GP Tools\n",
    "\n",
    "- `ArcPy` gives you access to all tools in `ArcToolbox` All tools are provided as functions\n",
    "\n",
    "  ```python\n",
    "  arcpy.<toolname_toolboxalias> (< parameters>)\n",
    "  arcpy.<toolboxalias>.< toolname>(< parameters>)\n",
    "  ```\n",
    "\n",
    "- Clip (Analysis)\n",
    "  - [Documents](https://pro.arcgis.com/en/pro-app/latest/tool-reference/analysis/clip.htm)\n",
    "\n",
    "![](https://pro.arcgis.com/en/pro-app/latest/tool-reference/analysis/GUID-6D3322A8-57EA-4D24-9FFE-2A9E7C6B29EC-web.png)\n"
   ]
  },
  {
   "cell_type": "code",
   "execution_count": 12,
   "metadata": {},
   "outputs": [
    {
     "data": {
      "text/html": [
       "<div class='gpresult'><h2>Messages</h2><div id='messages' data-messages='[\"Start Time: Saturday, April 13, 2024 5:47:07 PM\",\"Analyzing input features...\",\"Dissolving clip features...\",\"Clipping input features...\",\"Succeeded at Saturday, April 13, 2024 5:47:07 PM (Elapsed Time: 0.12 seconds)\"]' data-show='true'><div id = 'default' /></div></div>"
      ],
      "text/plain": [
       "<Result '.\\\\database\\\\results\\\\routes_clip.shp'>"
      ]
     },
     "execution_count": 12,
     "metadata": {},
     "output_type": "execute_result"
    }
   ],
   "source": [
    "arcpy.env.overwriteOutput = True\n",
    "\n",
    "arcpy.Clip_analysis(\"railroads.shp\",\"new_mexico.shp\",\"results/routes_clip.shp\")\n",
    "arcpy.analysis.Clip(\"railroads.shp\",\"new_mexico.shp\",\"results/routes_clip.shp\")  ## The same\n"
   ]
  },
  {
   "cell_type": "markdown",
   "metadata": {},
   "source": [
    "### Tool Parameters\n",
    "\n",
    "- A good understanding of `tool parameters` is essential\n",
    "- Parameters have properties:\n",
    "  1. Name\n",
    "  2. Type (`feature class`, `integer`, etc.)\n",
    "  3. Direction (`input` or `output`)\n",
    "  4. `Required` or `optional`\n",
    "- Required tool parameters are listed first\n",
    "- Optional tool parameters can be left out\n",
    "\n",
    "But what if some need to be set?\n",
    "It can be accomplished in the following ways:\n",
    "\n",
    "1. By setting the **optional parameters using an empty string** ( `\"\"` ) or the number sign ( `\"#\" `)\n",
    "2. By **specifying by name** the parameter that needs to be set, bypassing all others\n",
    "\n",
    "- Buffer (Analysis)\n",
    "  - [Documentation](https://pro.arcgis.com/en/pro-app/latest/tool-reference/analysis/buffer.htm)\n",
    "\n",
    "![](https://pro.arcgis.com/en/pro-app/latest/tool-reference/analysis/GUID-267CF0D1-DB92-456F-A8FE-F819981F5467-web.png)\n"
   ]
  },
  {
   "cell_type": "code",
   "execution_count": 13,
   "metadata": {},
   "outputs": [
    {
     "data": {
      "text/html": [
       "<div class='gpresult'><h2>Messages</h2><div id='messages' data-messages='[\"Start Time: Saturday, April 13, 2024 5:47:08 PM\",\"Succeeded at Saturday, April 13, 2024 5:47:10 PM (Elapsed Time: 1.63 seconds)\"]' data-show='true'><div id = 'default' /></div></div>"
      ],
      "text/plain": [
       "<Result '.\\\\database\\\\results\\\\railroads_1000ft_buffer.shp'>"
      ]
     },
     "execution_count": 13,
     "metadata": {},
     "output_type": "execute_result"
    }
   ],
   "source": [
    "arcpy.Buffer_analysis(\"railroads.shp\",\"results/railroads_1000ft_buffer.shp\",\"1000 FEET\",\"\",\"\",\"ALL\",\"\")\n",
    "arcpy.Buffer_analysis(\"railroads.shp\",\"results/railroads_1000ft_buffer.shp\",\"1000 FEET\", dissolve_option=\"ALL\")"
   ]
  },
  {
   "cell_type": "markdown",
   "metadata": {},
   "source": [
    "### Variables Provided by users (in tool design)\n",
    "\n",
    "```python\n",
    "import arcpy\n",
    "infc = arcpy.GetParameterAsText(0)\n",
    "outfc = arcpy.GetParameterAsText(1)\n",
    "arcpy.Copy_management(infc, outfc)\n",
    "```\n"
   ]
  },
  {
   "cell_type": "markdown",
   "metadata": {},
   "source": [
    "### Results Objects\n",
    "\n",
    "- `ArcPy` returns the output of a tool as a `Result object`\n",
    "- [Documentation](http://desktop.arcgis.com/en/arcmap/latest/analyze/arcpy-classes/result.htm)\n"
   ]
  },
  {
   "cell_type": "code",
   "execution_count": 14,
   "metadata": {},
   "outputs": [
    {
     "name": "stdout",
     "output_type": "stream",
     "text": [
      "86\n"
     ]
    }
   ],
   "source": [
    "mycount = arcpy.GetCount_management(\"railroads.shp\")\n",
    "print(mycount)"
   ]
  },
  {
   "cell_type": "code",
   "execution_count": 15,
   "metadata": {},
   "outputs": [
    {
     "name": "stdout",
     "output_type": "stream",
     "text": [
      ".\\database\\results\\routes_clip.shp\n"
     ]
    }
   ],
   "source": [
    "myresult = arcpy.Clip_analysis(\"railroads.shp\",\"new_mexico.shp\",\"results/routes_clip.shp\")\n",
    "print(myresult)"
   ]
  },
  {
   "cell_type": "markdown",
   "metadata": {},
   "source": [
    "### Multiple Operations using Result Objects\n",
    "\n",
    "`Result objects` can be used as the `input` into another function\n"
   ]
  },
  {
   "cell_type": "code",
   "execution_count": 16,
   "metadata": {},
   "outputs": [
    {
     "name": "stdout",
     "output_type": "stream",
     "text": [
      "1\n"
     ]
    }
   ],
   "source": [
    "temp_buffer = arcpy.Buffer_analysis(\"railroads.shp\",\"results/railroads_1000ft_buffer.shp\",\"1000 FEET\", dissolve_option=\"ALL\")\n",
    "\n",
    "count = arcpy.GetCount_management(temp_buffer)\n",
    "print(count)"
   ]
  },
  {
   "cell_type": "markdown",
   "metadata": {},
   "source": [
    "### Access Tool’s Syntax\n",
    "\n",
    "`arcpy.Usage()` can query the syntax of each tool\n"
   ]
  },
  {
   "cell_type": "code",
   "execution_count": 17,
   "metadata": {},
   "outputs": [
    {
     "name": "stdout",
     "output_type": "stream",
     "text": [
      "['ApportionPolygon_analysis', 'Buffer_analysis', 'Clip_analysis', 'CountOverlappingFeatures_analysis', 'CreateThiessenPolygons_analysis', 'Enrich_analysis', 'Erase_analysis', 'Frequency_analysis', 'GenerateNearTable_analysis', 'GenerateOriginDestinationLinks_analysis', 'GraphicBuffer_analysis', 'Identity_analysis', 'Intersect_analysis', 'MultipleRingBuffer_analysis', 'Near_analysis', 'PairwiseBuffer_analysis', 'PairwiseClip_analysis', 'PairwiseDissolve_analysis', 'PairwiseErase_analysis', 'PairwiseIntegrate_analysis', 'PairwiseIntersect_analysis', 'PolygonNeighbors_analysis', 'RemoveOverlapMultiple_analysis', 'Select_analysis', 'SpatialJoin_analysis', 'Split_analysis', 'SplitByAttributes_analysis', 'Statistics_analysis', 'SummarizeNearby_analysis', 'SummarizeWithin_analysis', 'SymDiff_analysis', 'TableSelect_analysis', 'TabulateIntersection_analysis', 'Union_analysis', 'Update_analysis']\n"
     ]
    }
   ],
   "source": [
    "tools = arcpy.ListTools(\"*_analysis\")\n",
    "print(tools)"
   ]
  },
  {
   "cell_type": "code",
   "execution_count": 18,
   "metadata": {},
   "outputs": [
    {
     "data": {
      "text/plain": [
       "'Union_analysis(Features {Ranks};Features {Ranks}..., out_feature_class, {All attributes | All attributes except feature IDs | Only feature IDs}, {cluster_tolerance}, {GAPS | NO_GAPS})'"
      ]
     },
     "execution_count": 18,
     "metadata": {},
     "output_type": "execute_result"
    }
   ],
   "source": [
    "arcpy.Usage(\"Union_analysis\")"
   ]
  },
  {
   "cell_type": "markdown",
   "metadata": {},
   "source": [
    "We can also use Python build-in `help` function\n"
   ]
  },
  {
   "cell_type": "code",
   "execution_count": 19,
   "metadata": {},
   "outputs": [
    {
     "name": "stdout",
     "output_type": "stream",
     "text": [
      "Help on function Union in module arcpy.analysis:\n",
      "\n",
      "Union(in_features=None, out_feature_class=None, join_attributes=None, cluster_tolerance=None, gaps=None)\n",
      "    Union_analysis(in_features;in_features..., out_feature_class, {join_attributes}, {cluster_tolerance}, {gaps})\n",
      "    \n",
      "       Computes a geometric union of the input features. All features and\n",
      "       their attributes will be written to the output feature class.\n",
      "    \n",
      "    INPUTS:\n",
      "     in_features (Value Table):\n",
      "         The input feature classes or layers. When the distance between\n",
      "         features is less than the cluster tolerance, the features with the\n",
      "         lower rank will snap to the feature with the higher rank. The highest\n",
      "         rank is one. All of the input features must be polygons.\n",
      "     join_attributes {String}:\n",
      "         Specifies which attributes from the input features will be transferred\n",
      "         to the output feature class.ALL-All the attributes from the input\n",
      "         features will be transferred to\n",
      "         the output feature class. This is the default.NO_FID-All the\n",
      "         attributes except the FID from the input features will\n",
      "         be transferred to the output feature class.ONLY_FID-Only the FID field\n",
      "         from the input features will be\n",
      "         transferred to the output feature class.\n",
      "     cluster_tolerance {Linear Unit}:\n",
      "         The minimum distance separating all feature coordinates (nodes and\n",
      "         vertices) as well as the distance a coordinate can move in x or y (or\n",
      "         both).Changing this parameter's value may cause failure or unexpected\n",
      "         results. It is recommended that you do not modify this parameter. It\n",
      "         has been removed from view on the tool dialog box. By default, the\n",
      "         input feature class's spatial reference x,y tolerance property is\n",
      "         used.\n",
      "     gaps {Boolean}:\n",
      "         Specifies whether a feature will be created for areas in the output\n",
      "         that are completely enclosed by polygons. Gaps are areas in the\n",
      "         output feature class that are completely\n",
      "         enclosed by other polygons (created from the intersection of features\n",
      "         or from existing holes in the input polygons). These areas are not\n",
      "         invalid, but you can identify them for analysis. To identify the gaps\n",
      "         in the output, set this parameter to NO_GAPS, and a feature will be\n",
      "         created in these areas. To select these features, query the output\n",
      "         feature class based on all the input feature'svalues being equal to\n",
      "         -1. FIDGAPS-A feature will not be created for an area in the\n",
      "         output that is\n",
      "         completely enclosed by polygons. This is the default.\n",
      "         NO_GAPS-A feature will be created for an area in the output\n",
      "         that is completely enclosed by polygons. This feature will have no\n",
      "         attribute values and will have avalue of -1. FID\n",
      "    \n",
      "    OUTPUTS:\n",
      "     out_feature_class (Feature Class):\n",
      "         The feature class that will contain the results.\n",
      "\n",
      "None\n"
     ]
    }
   ],
   "source": [
    "print(help(arcpy.Union_analysis))"
   ]
  },
  {
   "cell_type": "markdown",
   "metadata": {},
   "source": [
    "## ArcPy Examples\n",
    "\n",
    "### Describe Properties\n",
    "\n",
    "- [Feature Class Properties](https://pro.arcgis.com/en/pro-app/latest/arcpy/functions/featureclass-properties.htm)\n",
    "- [Raster Band Properties](https://pro.arcgis.com/en/pro-app/latest/arcpy/functions/raster-band-properties.htm)\n"
   ]
  },
  {
   "cell_type": "markdown",
   "metadata": {},
   "source": [
    "### Q1\n",
    "\n",
    "Write a script that creates a `File Geodatabase` in the `Results` folder, and copies those `Shapfiles` that are either `Point` or `Polygon` shapeType from the `database` folder to the newly created `File Geodatabase`.\n",
    "\n",
    "Note that you cannot use hard-coded filename (e.g. `cities.shp`) to specify which `Shapefile` to copy.\n"
   ]
  },
  {
   "cell_type": "code",
   "execution_count": 20,
   "metadata": {},
   "outputs": [
    {
     "name": "stdout",
     "output_type": "stream",
     "text": [
      "./database/results/MyGDB.gdb\n"
     ]
    }
   ],
   "source": [
    "## Create File Geodatabase\n",
    "\n",
    "outDb = arcpy.CreateFileGDB_management('./database/results' ,'MyGDB.gdb')\n",
    "print(outDb)"
   ]
  },
  {
   "cell_type": "code",
   "execution_count": 21,
   "metadata": {},
   "outputs": [
    {
     "name": "stdout",
     "output_type": "stream",
     "text": [
      "['amtrak_stations.shp', 'cities.shp', 'counties.shp', 'new_mexico.shp', 'railroads.shp', 'resultbuffers_poly.shp', 'resultLittlePolys.shp', 'resultWatersheds_polygon.shp']\n",
      "Successful Copy: amtrak_stations.shp\n",
      "Successful Copy: cities.shp\n",
      "Successful Copy: counties.shp\n",
      "Successful Copy: new_mexico.shp\n",
      "Skipping railroads.shp because it is not a Point or Polygon feature class\n",
      "Successful Copy: resultbuffers_poly.shp\n",
      "Successful Copy: resultLittlePolys.shp\n",
      "Successful Copy: resultWatersheds_polygon.shp\n"
     ]
    }
   ],
   "source": [
    "# List all feature classes in the workspace\n",
    "fc_list = arcpy.ListFeatureClasses()\n",
    "print(fc_list)\n",
    "\n",
    "# Loop through each feature class\n",
    "for fc in fc_list:\n",
    "    # Get the feature type of the current feature class\n",
    "    desc = arcpy.Describe(fc)\n",
    "    if desc.shapeType in [\"Point\", \"Polygon\"]:  # Check if the feature type is Point or Polygon\n",
    "        # Define the output feature class path\n",
    "        outFeatureClass = str(outDb) + '\\\\' + str(fc).replace('.shp', '')\n",
    "        \n",
    "        # Copy the feature class\n",
    "        arcpy.CopyFeatures_management(fc, outFeatureClass)\n",
    "        \n",
    "        # Print a success message\n",
    "        print('Successful Copy: ' + str(fc))\n",
    "    else:\n",
    "        # Print a message indicating that the feature class is skipped\n",
    "        print('Skipping ' + str(fc) + ' because it is not a Point or Polygon feature class')"
   ]
  },
  {
   "cell_type": "markdown",
   "metadata": {},
   "source": [
    "### Q2\n",
    "\n",
    "Write a script that copies `polygon`-type `feature classes` and `float`-type `raster dataset`s from `testdata.gdb` to the `Results` folder.\n",
    "\n",
    "`Feature classes` can be saved as `Shapefile` format while `raster` datasets can be saved as `TIF` format.\n",
    "\n",
    "Note that you cannot use hard-coded filename (e.g. `buffers_poly`) to specify which file to copy.\n"
   ]
  },
  {
   "cell_type": "code",
   "execution_count": 22,
   "metadata": {},
   "outputs": [],
   "source": [
    "import os"
   ]
  },
  {
   "cell_type": "code",
   "execution_count": 23,
   "metadata": {},
   "outputs": [
    {
     "name": "stdout",
     "output_type": "stream",
     "text": [
      "Successful Copy: buffers_poly\n",
      "Successful Copy: LittlePolys\n",
      "Successful Copy: Watersheds_polygon\n",
      "Successful Copy: ElevationFloat\n"
     ]
    }
   ],
   "source": [
    "# Set the workspace to the current directory\n",
    "arcpy.env.workspace = os.getcwd() + \"./database/testdata.gdb\"\n",
    "\n",
    "# List all feature classes in the geodatabase\n",
    "fc_list = arcpy.ListFeatureClasses()\n",
    "\n",
    "# Iterate over the feature classes\n",
    "for fc in fc_list:\n",
    "    desc = arcpy.Describe(fc)\n",
    "    if desc.shapeType == \"Polygon\":\n",
    "        # Define the output feature class path\n",
    "        outFeatureClass = os.path.abspath(\"./database/results/\") + \"/\" + os.path.basename(fc) + \".shp\"\n",
    "        \n",
    "        # Copy the feature class\n",
    "        arcpy.CopyFeatures_management(fc, outFeatureClass)\n",
    "        \n",
    "        # Print a success message\n",
    "        print('Successful Copy: ' + str(fc))\n",
    "        \n",
    "# List all raster classes in the geodatabase\n",
    "rs_list = arcpy.ListRasters()\n",
    "\n",
    "# Iterate over the feature classes\n",
    "for rs in rs_list:\n",
    "    desc = arcpy.Describe(rs)\n",
    "    if desc.isInteger == False:\n",
    "        # Define the output feature class path\n",
    "        outRasterClass = os.path.abspath(\"./database/results/\")  + \"/\" + os.path.basename(rs) + \".tif\"\n",
    "        \n",
    "        # Copy the raster dataset\n",
    "        arcpy.CopyRaster_management(rs, outRasterClass)\n",
    "        \n",
    "        # Print a success message\n",
    "        print('Successful Copy: ' + str(rs))"
   ]
  },
  {
   "cell_type": "markdown",
   "metadata": {},
   "source": [
    "### Q3\n",
    "\n",
    "After completing Task 2, you should have the `float-type` `raster` dataset(s) in the Results folder.\n",
    "\n",
    "Write a script to print out the `properties` for each `float-type` raster dataset, including the `spatial reference name`, `cell size`, `columns`, `rows`, `Min`, `Max`, and `Mean` values.\n",
    "\n",
    "Note that you cannot use hard-coded filename to specify which raster dataset to use.\n"
   ]
  },
  {
   "cell_type": "code",
   "execution_count": 24,
   "metadata": {},
   "outputs": [
    {
     "name": "stdout",
     "output_type": "stream",
     "text": [
      "List of Rasters:\n",
      "['ElevationFloat.tif']\n"
     ]
    }
   ],
   "source": [
    "# Set the workspace to the 'results' folder\n",
    "arcpy.env.workspace = os.getcwd() + \"./database/results\"\n",
    "\n",
    "# List all rasters in the workspace\n",
    "rc_lst = arcpy.ListRasters()\n",
    "print(\"List of Rasters:\")\n",
    "print(rc_lst)"
   ]
  },
  {
   "cell_type": "code",
   "execution_count": 25,
   "metadata": {},
   "outputs": [
    {
     "name": "stdout",
     "output_type": "stream",
     "text": [
      "\n",
      "Raster Name: ElevationFloat.tif\n",
      "Spatial Reference Name: USA_Contiguous_Albers_Equal_Area_Conic_USGS_version\n",
      "Cell Size: 30.0\n",
      "Columns: 233, Rows: 207\n",
      "Min: 4309, Max: 5832, Mean: 4907.5136753423\n"
     ]
    }
   ],
   "source": [
    "# Iterate over each raster in the list\n",
    "for raster in rc_lst:\n",
    "    # Get raster information\n",
    "    raster_info = arcpy.Describe(raster)\n",
    "    \n",
    "    # Print raster information in a formatted way\n",
    "    print(\"\\nRaster Name: {}\".format(raster_info.name))\n",
    "    print(\"Spatial Reference Name: {}\".format(raster_info.spatialReference.name))\n",
    "    print(\"Cell Size: {}\".format(raster_info.meanCellWidth))\n",
    "    print(\"Columns: {}, Rows: {}\".format(raster_info.width, raster_info.height))\n",
    "    \n",
    "    # Get raster properties\n",
    "    min_value = arcpy.GetRasterProperties_management(raster, 'MINIMUM')\n",
    "    max_value = arcpy.GetRasterProperties_management(raster, 'MAXIMUM')\n",
    "    mean_value = arcpy.GetRasterProperties_management(raster, 'MEAN')\n",
    "    \n",
    "    # Print raster properties\n",
    "    print(\"Min: {}, Max: {}, Mean: {}\".format(min_value, max_value, mean_value))"
   ]
  },
  {
   "cell_type": "markdown",
   "metadata": {},
   "source": [
    "### Q4\n",
    "\n",
    "After completing Task 2, you should have the `polygon`-type `Shapefiles` in the `Results` folder.\n",
    "\n",
    "Write a script to print out the `String`-type fields with `length > 10 `for each `Shapefile`.\n",
    "\n",
    "Note that you cannot use hard-coded filename to specify which `Shapefile` to use\n"
   ]
  },
  {
   "cell_type": "code",
   "execution_count": 26,
   "metadata": {},
   "outputs": [
    {
     "data": {
      "text/plain": [
       "['buffers_poly.shp',\n",
       " 'LittlePolys.shp',\n",
       " 'railroads_1000ft_buffer.shp',\n",
       " 'routes_clip.shp',\n",
       " 'Watersheds_polygon.shp']"
      ]
     },
     "execution_count": 26,
     "metadata": {},
     "output_type": "execute_result"
    }
   ],
   "source": [
    "fc_list = arcpy.ListFeatureClasses()\n",
    "fc_list"
   ]
  },
  {
   "cell_type": "code",
   "execution_count": 27,
   "metadata": {},
   "outputs": [
    {
     "name": "stdout",
     "output_type": "stream",
     "text": [
      "\n",
      "Feature Name: buffers_poly\n",
      "Field Name: SITE_NO\n",
      "Field Name: STATION_NM\n",
      "Field Name: LAND_NET_D\n",
      "Field Name: MAP_NM\n",
      "Field Name: DATA_TYPES\n",
      "Field Name: INSTRUMENT\n",
      "\n",
      "Feature Name: LittlePolys\n",
      "Field Name: STAID\n",
      "\n",
      "Feature Name: railroads_1000ft_buffer\n",
      "\n",
      "Feature Name: routes_clip\n",
      "Field Name: RROWNER1\n",
      "Field Name: RROWNER2\n",
      "Field Name: RROWNER3\n",
      "\n",
      "Feature Name: Watersheds_polygon\n",
      "Field Name: STAID\n"
     ]
    }
   ],
   "source": [
    "# Iterate over each feature class in the list\n",
    "for feature_class in fc_list:\n",
    "    try:\n",
    "        # Get the list of fields for the current feature class\n",
    "        field_list = arcpy.ListFields(feature_class)\n",
    "        \n",
    "        # Print the feature class name\n",
    "        print(\"\\nFeature Name: {}\".format(feature_class.replace('.shp', '')))\n",
    "        \n",
    "        # Iterate over each field in the field list\n",
    "        for field in field_list:\n",
    "            # Check if the field is a string type and has a length greater than 10\n",
    "            if field.type == 'String' and field.length > 10:\n",
    "                # Print the field name\n",
    "                print(\"Field Name: {}\".format(field.baseName))\n",
    "    except Exception as e:\n",
    "        # Print the exception message if an error occurs\n",
    "        print(\"Error occurred while processing feature class {}: {}\".format(feature_class, str(e)))\n",
    "        continue"
   ]
  }
 ],
 "metadata": {
  "kernelspec": {
   "display_name": "arcgispro-py3",
   "language": "python",
   "name": "python3"
  },
  "language_info": {
   "codemirror_mode": {
    "name": "ipython",
    "version": 3
   },
   "file_extension": ".py",
   "mimetype": "text/x-python",
   "name": "python",
   "nbconvert_exporter": "python",
   "pygments_lexer": "ipython3",
   "version": "3.9.11"
  }
 },
 "nbformat": 4,
 "nbformat_minor": 2
}
