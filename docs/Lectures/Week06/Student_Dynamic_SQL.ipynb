{
 "cells": [
  {
   "cell_type": "markdown",
   "metadata": {},
   "source": [
    "<a href=\"https://colab.research.google.com/github/gisynw/ssj-376/blob/main/docs/Lectures/Week06/Student_Dynamic_SQL.ipynb\" target=\"_blank\">\n",
    "  <img src=\"https://colab.research.google.com/assets/colab-badge.svg\" alt=\"Open in Colab\" style=\"height: 30px;\"/>\n",
    "</a>\n",
    "\n",
    "<a href=\"./Week06/Student_Dynamic_SQL.ipynb\" target=\"_blank\"> \n",
    "  <img src=\"https://img.icons8.com/?size=100&id=108635&format=png&color=000000\" alt=\"Download\" style=\"height: 40px;\"/>\n",
    " </a>"
   ]
  },
  {
   "cell_type": "markdown",
   "metadata": {},
   "source": [
    "<center>\n",
    "    <h2 style=\"color: #526cfe ; font-family: Arial, sans-serif; font-size: 32px; padding: 10px;\">\n",
    "        Week 6: Dynamic SQL\n",
    "    </h2>\n",
    "</center>"
   ]
  },
  {
   "cell_type": "code",
   "execution_count": null,
   "metadata": {},
   "outputs": [],
   "source": [
    "import matplotlib.pyplot as plt\n",
    "from sqlalchemy import create_engine\n",
    "from sqlalchemy import inspect\n",
    "from sqlalchemy import text\n",
    "import os\n",
    "import geopandas as gpd"
   ]
  },
  {
   "cell_type": "code",
   "execution_count": null,
   "metadata": {},
   "outputs": [],
   "source": [
    "host = 'localhost'\n",
    "database = 'spatialdata'\n",
    "user = 'postgres'\n",
    "port = '5432'\n",
    "password = os.getenv('SQL_PASSWORD')"
   ]
  },
  {
   "cell_type": "code",
   "execution_count": null,
   "metadata": {},
   "outputs": [],
   "source": [
    "connection_string = f\"postgresql://{user}:{password}@{host}:{port}/{database}\"\n",
    "\n",
    "engine = create_engine(connection_string)\n",
    "insp = inspect(engine)\n",
    "insp.get_table_names()"
   ]
  },
  {
   "cell_type": "markdown",
   "metadata": {},
   "source": [
    "- with engine.connect() as conn:\n",
    "    - Establishes a connection to the database using engine.connect().\n",
    "    - Uses a with statement to ensure the connection automatically closes after execution.\n",
    "    - conn.execute(text(function_sql))\n",
    "\n",
    "- Executes the SQL command stored in function_sql.\n",
    "    - The text(function_sql) ensures that the SQL is properly formatted for execution.\n",
    "    - This step creates or replaces the function in PostgreSQL.\n",
    "    - conn.commit()\n",
    "\n",
    "- Commits the transaction to apply changes to the database.\n",
    "    - Ensures the function is saved in PostgreSQL.\n",
    "    - Without this, the function definition may not persist."
   ]
  },
  {
   "cell_type": "code",
   "execution_count": null,
   "metadata": {},
   "outputs": [],
   "source": [
    "function_sql = \"\"\"\n",
    "\n",
    "\"\"\"\n",
    "\n",
    "with engine.connect() as conn:\n",
    "    conn.execute(text(function_sql))\n",
    "    conn.commit()\n",
    "\n",
    "sql_text = \"\"\"select * from dynamic_subway_filter('ch05','streets', 'ch05', 'subway', 'color', 'BLUE', 100)\"\"\"\n",
    "\n",
    "outcome_street = gpd.read_postgis(sql_text, con=engine)\n",
    "\n",
    "## get neighborhoods\n",
    "nbh_text = text(\"\"\" SELECT * FROM ch05.neighborhoods\"\"\")\n",
    "all_nbh = gpd.read_postgis(nbh_text, con = engine)\n",
    "\n",
    "## get outcome subway\n",
    "subway_text = text(\"\"\" SELECT geom \n",
    "                      FROM ch05.subway\n",
    "                      where color = 'BLUE' \"\"\")\n",
    "outcome_subway = gpd.read_postgis(subway_text, con = engine)\n",
    "\n",
    "\n",
    "fig, ax = plt.subplots(figsize=(12, 10))\n",
    "\n",
    "all_nbh.plot(ax=ax,facecolor = 'none',)\n",
    "outcome_subway.plot(ax=ax, facecolor = 'none',edgecolor='black')\n",
    "outcome_street.plot(ax=ax, color = 'BLUE',edgecolor='black')\n",
    "\n",
    "\n",
    "plt.title('NYC Streets with Subway Stations in Manhattan', fontsize=15)\n",
    "plt.legend()\n",
    "plt.grid(True)"
   ]
  }
 ],
 "metadata": {
  "kernelspec": {
   "display_name": "sql",
   "language": "python",
   "name": "python3"
  },
  "language_info": {
   "codemirror_mode": {
    "name": "ipython",
    "version": 3
   },
   "file_extension": ".py",
   "mimetype": "text/x-python",
   "name": "python",
   "nbconvert_exporter": "python",
   "pygments_lexer": "ipython3",
   "version": "3.9.21"
  }
 },
 "nbformat": 4,
 "nbformat_minor": 2
}
