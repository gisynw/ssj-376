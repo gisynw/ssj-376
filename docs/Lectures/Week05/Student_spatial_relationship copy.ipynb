{
 "cells": [
  {
   "cell_type": "code",
   "execution_count": null,
   "metadata": {},
   "outputs": [],
   "source": [
    "import matplotlib.pyplot as plt\n",
    "from sqlalchemy import create_engine\n",
    "from sqlalchemy import inspect\n",
    "from sqlalchemy import text\n",
    "import os\n",
    "import geopandas as gpd"
   ]
  },
  {
   "cell_type": "markdown",
   "metadata": {},
   "source": [
    "## Add the passworkd to User Variabels for Administrator\n",
    "\n",
    "- System Properties\n",
    "- Envrionment Variables\n",
    "- New\n",
    "- Variable name: SQL_PASSWORD ; Variable value: *the password for postgresql*"
   ]
  },
  {
   "cell_type": "code",
   "execution_count": null,
   "metadata": {},
   "outputs": [],
   "source": [
    "host = 'localhost'\n",
    "database = 'spatialdata'\n",
    "user = 'postgres'\n",
    "port = '5432'\n",
    "password = os.getenv('SQL_PASSWORD')"
   ]
  },
  {
   "cell_type": "markdown",
   "metadata": {},
   "source": [
    "**Check your passworkd**\n",
    "\n",
    "print(os.getenv('SQL_PASSWORD'))"
   ]
  },
  {
   "cell_type": "code",
   "execution_count": null,
   "metadata": {},
   "outputs": [],
   "source": [
    "connection_string = f\"postgresql://{user}:{password}@{host}:{port}/{database}\""
   ]
  },
  {
   "cell_type": "code",
   "execution_count": null,
   "metadata": {},
   "outputs": [],
   "source": [
    "engine = create_engine(connection_string)\n",
    "insp = inspect(engine)\n",
    "insp.get_table_names()"
   ]
  },
  {
   "cell_type": "markdown",
   "metadata": {},
   "source": [
    "## Select Ten Features FROM nyc_neighborhoods"
   ]
  },
  {
   "cell_type": "code",
   "execution_count": null,
   "metadata": {},
   "outputs": [],
   "source": [
    "streets = text(\"SELECT * FROM  ch05.nyc_neighborhoods LIMIT 10\")\n",
    "\n",
    "sub_streetsub_street = gpd.read_postgis(streets, con=engine)"
   ]
  },
  {
   "cell_type": "code",
   "execution_count": null,
   "metadata": {},
   "outputs": [],
   "source": [
    "sub_streetsub_street.plot()"
   ]
  },
  {
   "cell_type": "markdown",
   "metadata": {},
   "source": [
    "## Select All features from nyc_neighborhoods"
   ]
  },
  {
   "cell_type": "code",
   "execution_count": null,
   "metadata": {},
   "outputs": [],
   "source": [
    "query = text(\"SELECT * FROM ch05.nyc_neighborhoods\")\n",
    "neighborhood_shp = gpd.read_postgis(query, con=engine)\n",
    "neighborhood_shp.plot()"
   ]
  },
  {
   "cell_type": "markdown",
   "metadata": {},
   "source": [
    "## ST_Instersects\n",
    "\n",
    "Identify all subway stations that intersect with neighborhoods = 'Manhattan'"
   ]
  },
  {
   "cell_type": "code",
   "execution_count": null,
   "metadata": {},
   "outputs": [],
   "source": [
    "# Write and execute your SQL query\n",
    "query = text(\"\"\"SELECT nbh.NAME AS nbh_name, subways.NAME AS subway_name, subways.geom\n",
    "FROM ch05.nyc_neighborhoods nbh, ch05.nyc_subway_stations subways  \n",
    "WHERE ST_Intersects(nbh.geom, subways.geom) AND nbh.boroname = 'Manhattan'\n",
    "                \"\"\")\n",
    "\n",
    "all_nbg = text(\"SELECT * FROM ch05.nyc_neighborhoods\")\n",
    "\n",
    "sub_subway = gpd.read_postgis(query, con=engine)\n",
    "\n",
    "sub_subway.plot()\n"
   ]
  },
  {
   "cell_type": "markdown",
   "metadata": {},
   "source": [
    "## Plot neighborhoods and Manhattan"
   ]
  },
  {
   "cell_type": "code",
   "execution_count": null,
   "metadata": {},
   "outputs": [],
   "source": [
    "fig, ax = plt.subplots(figsize=(12, 10))\n",
    "\n",
    "neighborhood_shp.plot(ax=ax, color='lightgray', edgecolor='black', alpha=0.5, label='Neighborhoods')\n",
    "\n",
    "# Plot subway stations in red\n",
    "sub_subway.plot(ax=ax, color='red', markersize=50, label='Subway Stations')\n",
    "\n",
    "# Add title, legend, and grid\n",
    "plt.title('NYC Neighborhoods with Subway Stations in Manhattan', fontsize=15)\n",
    "plt.legend()\n",
    "plt.grid(True)\n",
    "\n",
    "# Show the plot\n",
    "plt.show()"
   ]
  },
  {
   "cell_type": "markdown",
   "metadata": {},
   "source": [
    "## Exercise 1: Select subway stations that locate in neighborhoods in 'Queens', 'Brooklyn'"
   ]
  }
 ],
 "metadata": {
  "kernelspec": {
   "display_name": "sql",
   "language": "python",
   "name": "python3"
  },
  "language_info": {
   "codemirror_mode": {
    "name": "ipython",
    "version": 3
   },
   "file_extension": ".py",
   "mimetype": "text/x-python",
   "name": "python",
   "nbconvert_exporter": "python",
   "pygments_lexer": "ipython3",
   "version": "3.9.21"
  }
 },
 "nbformat": 4,
 "nbformat_minor": 2
}
