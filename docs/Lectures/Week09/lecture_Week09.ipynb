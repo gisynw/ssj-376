{
 "cells": [
  {
   "cell_type": "code",
   "execution_count": 15,
   "metadata": {},
   "outputs": [],
   "source": [
    "import matplotlib.pyplot as plt\n",
    "import matplotlib.colors as mcolors\n",
    "from sqlalchemy import create_engine\n",
    "from sqlalchemy import inspect\n",
    "from sqlalchemy import text\n",
    "import os\n",
    "import geopandas as gpd"
   ]
  },
  {
   "cell_type": "code",
   "execution_count": 16,
   "metadata": {},
   "outputs": [],
   "source": [
    "host = 'localhost'\n",
    "database = 'spatial'\n",
    "user = 'postgres'\n",
    "port = '5432'\n",
    "password = os.getenv('SQL_PASSWORD')"
   ]
  },
  {
   "cell_type": "code",
   "execution_count": 17,
   "metadata": {},
   "outputs": [
    {
     "data": {
      "text/plain": [
       "['spatial_ref_sys']"
      ]
     },
     "execution_count": 17,
     "metadata": {},
     "output_type": "execute_result"
    }
   ],
   "source": [
    "connection_string = f\"postgresql://{user}:{password}@{host}:{port}/{database}\"\n",
    "\n",
    "engine = create_engine(connection_string)\n",
    "insp = inspect(engine)\n",
    "insp.get_table_names()"
   ]
  },
  {
   "cell_type": "code",
   "execution_count": 18,
   "metadata": {},
   "outputs": [],
   "source": [
    "citi_text = \"\"\" select * from ch11.cities\n",
    "\"\"\"\n",
    "\n",
    "cities = gpd.read_postgis(citi_text, con=engine)"
   ]
  },
  {
   "cell_type": "code",
   "execution_count": 45,
   "metadata": {},
   "outputs": [
    {
     "data": {
      "text/html": [
       "<div>\n",
       "<style scoped>\n",
       "    .dataframe tbody tr th:only-of-type {\n",
       "        vertical-align: middle;\n",
       "    }\n",
       "\n",
       "    .dataframe tbody tr th {\n",
       "        vertical-align: top;\n",
       "    }\n",
       "\n",
       "    .dataframe thead th {\n",
       "        text-align: right;\n",
       "    }\n",
       "</style>\n",
       "<table border=\"1\" class=\"dataframe\">\n",
       "  <thead>\n",
       "    <tr style=\"text-align: right;\">\n",
       "      <th></th>\n",
       "      <th>gid</th>\n",
       "      <th>city</th>\n",
       "      <th>area__</th>\n",
       "      <th>length__</th>\n",
       "      <th>geom</th>\n",
       "    </tr>\n",
       "  </thead>\n",
       "  <tbody>\n",
       "    <tr>\n",
       "      <th>11</th>\n",
       "      <td>102</td>\n",
       "      <td>SAN FRANCISCO</td>\n",
       "      <td>4.921730e+04</td>\n",
       "      <td>2408.627699</td>\n",
       "      <td>MULTIPOLYGON (((6016938.75 2107639.58, 6016955...</td>\n",
       "    </tr>\n",
       "    <tr>\n",
       "      <th>12</th>\n",
       "      <td>103</td>\n",
       "      <td>SAN FRANCISCO</td>\n",
       "      <td>9.025257e+05</td>\n",
       "      <td>4667.016250</td>\n",
       "      <td>MULTIPOLYGON (((6006359.581 2129526.79, 600672...</td>\n",
       "    </tr>\n",
       "    <tr>\n",
       "      <th>16</th>\n",
       "      <td>14</td>\n",
       "      <td>BRISBANE</td>\n",
       "      <td>5.421647e+04</td>\n",
       "      <td>1694.986297</td>\n",
       "      <td>MULTIPOLYGON (((6014266.9 2084758.77, 6013764....</td>\n",
       "    </tr>\n",
       "    <tr>\n",
       "      <th>31</th>\n",
       "      <td>104</td>\n",
       "      <td>SAN FRANCISCO</td>\n",
       "      <td>2.463098e+07</td>\n",
       "      <td>33500.630079</td>\n",
       "      <td>MULTIPOLYGON (((6022038.87 2130470.36, 6022352...</td>\n",
       "    </tr>\n",
       "    <tr>\n",
       "      <th>78</th>\n",
       "      <td>75</td>\n",
       "      <td>SAN FRANCISCO</td>\n",
       "      <td>8.977878e+07</td>\n",
       "      <td>57489.942550</td>\n",
       "      <td>MULTIPOLYGON (((6015965.54 2059363.85, 6014624...</td>\n",
       "    </tr>\n",
       "    <tr>\n",
       "      <th>100</th>\n",
       "      <td>107</td>\n",
       "      <td>SAN FRANCISCO</td>\n",
       "      <td>1.287809e+09</td>\n",
       "      <td>288196.058977</td>\n",
       "      <td>MULTIPOLYGON (((6001155.17 2122697.49, 6001205...</td>\n",
       "    </tr>\n",
       "    <tr>\n",
       "      <th>101</th>\n",
       "      <td>108</td>\n",
       "      <td>SAN FRANCISCO</td>\n",
       "      <td>8.146695e+03</td>\n",
       "      <td>382.966986</td>\n",
       "      <td>MULTIPOLYGON (((6001205.38 2122628.86, 6001155...</td>\n",
       "    </tr>\n",
       "    <tr>\n",
       "      <th>107</th>\n",
       "      <td>101</td>\n",
       "      <td>SAN FRANCISCO</td>\n",
       "      <td>2.297130e+04</td>\n",
       "      <td>1091.049133</td>\n",
       "      <td>MULTIPOLYGON (((6017336.79 2107205.46, 6017327...</td>\n",
       "    </tr>\n",
       "    <tr>\n",
       "      <th>111</th>\n",
       "      <td>112</td>\n",
       "      <td>BRISBANE</td>\n",
       "      <td>1.323031e+08</td>\n",
       "      <td>67711.082027</td>\n",
       "      <td>MULTIPOLYGON (((6013975.961 2085906.81, 601376...</td>\n",
       "    </tr>\n",
       "  </tbody>\n",
       "</table>\n",
       "</div>"
      ],
      "text/plain": [
       "     gid           city        area__       length__  \\\n",
       "11   102  SAN FRANCISCO  4.921730e+04    2408.627699   \n",
       "12   103  SAN FRANCISCO  9.025257e+05    4667.016250   \n",
       "16    14       BRISBANE  5.421647e+04    1694.986297   \n",
       "31   104  SAN FRANCISCO  2.463098e+07   33500.630079   \n",
       "78    75  SAN FRANCISCO  8.977878e+07   57489.942550   \n",
       "100  107  SAN FRANCISCO  1.287809e+09  288196.058977   \n",
       "101  108  SAN FRANCISCO  8.146695e+03     382.966986   \n",
       "107  101  SAN FRANCISCO  2.297130e+04    1091.049133   \n",
       "111  112       BRISBANE  1.323031e+08   67711.082027   \n",
       "\n",
       "                                                  geom  \n",
       "11   MULTIPOLYGON (((6016938.75 2107639.58, 6016955...  \n",
       "12   MULTIPOLYGON (((6006359.581 2129526.79, 600672...  \n",
       "16   MULTIPOLYGON (((6014266.9 2084758.77, 6013764....  \n",
       "31   MULTIPOLYGON (((6022038.87 2130470.36, 6022352...  \n",
       "78   MULTIPOLYGON (((6015965.54 2059363.85, 6014624...  \n",
       "100  MULTIPOLYGON (((6001155.17 2122697.49, 6001205...  \n",
       "101  MULTIPOLYGON (((6001205.38 2122628.86, 6001155...  \n",
       "107  MULTIPOLYGON (((6017336.79 2107205.46, 6017327...  \n",
       "111  MULTIPOLYGON (((6013975.961 2085906.81, 601376...  "
      ]
     },
     "execution_count": 45,
     "metadata": {},
     "output_type": "execute_result"
    }
   ],
   "source": [
    "cities_part = cities[cities[\"city\"].isin(['BRISBANE', 'SAN FRANCISCO'])]\n",
    "cities_part"
   ]
  },
  {
   "cell_type": "code",
   "execution_count": 51,
   "metadata": {},
   "outputs": [
    {
     "data": {
      "text/plain": [
       "98"
      ]
     },
     "execution_count": 51,
     "metadata": {},
     "output_type": "execute_result"
    }
   ],
   "source": [
    "len(cities[\"city\"].unique())"
   ]
  },
  {
   "cell_type": "code",
   "execution_count": 47,
   "metadata": {},
   "outputs": [
    {
     "name": "stderr",
     "output_type": "stream",
     "text": [
      "C:\\Users\\yyang\\AppData\\Local\\Temp\\ipykernel_52060\\264490837.py:17: UserWarning: Legend does not support handles for PatchCollection instances.\n",
      "See: https://matplotlib.org/stable/tutorials/intermediate/legend_guide.html#implementing-a-custom-legend-handler\n",
      "  plt.legend(title=\"City\", loc=\"upper left\", fontsize=8, frameon=True)\n",
      "C:\\Users\\yyang\\AppData\\Local\\Temp\\ipykernel_52060\\264490837.py:17: UserWarning: No artists with labels found to put in legend.  Note that artists whose label start with an underscore are ignored when legend() is called with no argument.\n",
      "  plt.legend(title=\"City\", loc=\"upper left\", fontsize=8, frameon=True)\n"
     ]
    },
    {
     "data": {
      "image/png": "[encoded data removed]",
      "text/plain": [
       "<Figure size 1200x800 with 1 Axes>"
      ]
     },
     "metadata": {},
     "output_type": "display_data"
    }
   ],
   "source": [
    "# 🔹 Ensure the geometry column is correctly set\n",
    "gdf = cities_part.set_geometry(\"geom\")\n",
    "\n",
    "# 🔹 Generate a unique color for each city\n",
    "unique_cities = gdf[\"city\"].unique()\n",
    "color_map = {city: color for city, color in zip(unique_cities, mcolors.TABLEAU_COLORS)}\n",
    "\n",
    "# 🔹 Plot the GeoDataFrame with city-based boundary colors\n",
    "fig, ax = plt.subplots(figsize=(12, 8))\n",
    "\n",
    "for city, color in color_map.items():\n",
    "    cities_part[cities_part[\"city\"] == city].plot(ax=ax, edgecolor=color, facecolor=\"none\", linewidth=1.5, label=city)\n",
    "\n",
    "# 🔹 Customize plot appearance\n",
    "ax.set_title(\"City Boundaries with Unique Colors\", fontsize=14)\n",
    "ax.axis(\"off\")  # Hide axis\n",
    "plt.legend(title=\"City\", loc=\"upper left\", fontsize=8, frameon=True)\n",
    "\n",
    "# 🔹 Show the plot\n",
    "plt.show()\n",
    "\n"
   ]
  },
  {
   "cell_type": "code",
   "execution_count": 48,
   "metadata": {},
   "outputs": [
    {
     "data": {
      "text/plain": [
       "{'SAN FRANCISCO': 'tab:blue', 'BRISBANE': 'tab:orange'}"
      ]
     },
     "execution_count": 48,
     "metadata": {},
     "output_type": "execute_result"
    }
   ],
   "source": [
    "color_map"
   ]
  }
 ],
 "metadata": {
  "kernelspec": {
   "display_name": "sql",
   "language": "python",
   "name": "python3"
  },
  "language_info": {
   "codemirror_mode": {
    "name": "ipython",
    "version": 3
   },
   "file_extension": ".py",
   "mimetype": "text/x-python",
   "name": "python",
   "nbconvert_exporter": "python",
   "pygments_lexer": "ipython3",
   "version": "3.9.21"
  }
 },
 "nbformat": 4,
 "nbformat_minor": 2
}
