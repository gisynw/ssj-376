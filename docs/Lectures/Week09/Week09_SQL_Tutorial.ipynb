{
 "cells": [
  {
   "cell_type": "markdown",
   "metadata": {},
   "source": [
    "# Week 9: SQL for Spatial Data Processing\n",
    "\n",
    "This tutorial covers key SQL elements for spatial data processing, focusing on:\n",
    "\n",
    "1. Date and Time Functions\n",
    "2. Type Casting and Conversion\n",
    "3. Spatial Functions (PostGIS)\n",
    "4. Aggregation and Grouping\n",
    "5. Creating New Tables from Queries\n",
    "\n",
    "We'll explore these concepts using examples from our lecture."
   ]
  },
  {
   "cell_type": "markdown",
   "metadata": {},
   "source": [
    "## 1. Date and Time Functions\n",
    "\n",
    "PostgreSQL provides powerful functions for working with date and time data. Let's explore some key functions:"
   ]
  },
  {
   "cell_type": "markdown",
   "metadata": {},
   "source": [
    "### 1.1 DATE_TRUNC\n",
    "\n",
    "`DATE_TRUNC` truncates a timestamp to a specified precision (year, month, day, hour, minute, etc.).\n",
    "\n",
    "```sql\n",
    "SELECT date_trunc('minute', TIMESTAMP '2009-07-18 04:30:00-04');\n",
    "```\n",
    "\n",
    "This returns: `2009-07-18 04:30:00-04`\n",
    "\n",
    "If we had used `'hour'` instead of `'minute'`, it would return: `2009-07-18 04:00:00-04`"
   ]
  },
  {
   "cell_type": "markdown",
   "metadata": {},
   "source": [
    "### 1.2 DATE_PART\n",
    "\n",
    "`DATE_PART` extracts a specific component (year, month, day, hour, minute, etc.) from a timestamp.\n",
    "\n",
    "```sql\n",
    "SELECT DATE_PART('minute', TIMESTAMP '2009-07-18 04:31:00-04');\n",
    "```\n",
    "\n",
    "This returns: `31` (the minute component of the timestamp)"
   ]
  },
  {
   "cell_type": "markdown",
   "metadata": {},
   "source": [
    "## 2. Type Casting and Conversion\n",
    "\n",
    "PostgreSQL allows converting between different data types using the `CAST` function or the `::` operator."
   ]
  },
  {
   "cell_type": "markdown",
   "metadata": {},
   "source": [
    "### 2.1 Basic Casting\n",
    "\n",
    "```sql\n",
    "-- Cast DATE_PART result to integer\n",
    "SELECT CAST(DATE_PART('minute', TIMESTAMP '2009-07-18 04:31:00-04') AS integer);\n",
    "```\n",
    "\n",
    "This returns: `31` (as an integer, not a numeric type)"
   ]
  },
  {
   "cell_type": "markdown",
   "metadata": {},
   "source": [
    "### 2.2 String Concatenation and Interval Casting\n",
    "\n",
    "The `||` operator concatenates strings, and we can cast strings to intervals:\n",
    "\n",
    "```sql\n",
    "SELECT CAST(3 || ' minutes' AS interval);\n",
    "```\n",
    "\n",
    "This returns: `00:03:00` (a 3-minute interval)"
   ]
  },
  {
   "cell_type": "markdown",
   "metadata": {},
   "source": [
    "## 3. Mathematical Functions\n",
    "\n",
    "PostgreSQL provides various mathematical functions for data processing."
   ]
  },
  {
   "cell_type": "markdown",
   "metadata": {},
   "source": [
    "### 3.1 Modulo Operation (MOD)\n",
    "\n",
    "The `MOD` function returns the remainder of a division operation:\n",
    "\n",
    "```sql\n",
    "SELECT mod(CAST(DATE_PART('minute', TIMESTAMP '2009-07-18 04:30:00-04') AS integer), 15);\n",
    "```\n",
    "\n",
    "This returns: `0` (because 30 divided by 15 has a remainder of 0)\n",
    "\n",
    "If we used `04:31:00` instead, it would return: `1` (because 31 divided by 15 has a remainder of 1)"
   ]
  },
  {
   "cell_type": "markdown",
   "metadata": {},
   "source": [
    "## 4. Spatial Functions (PostGIS)\n",
    "\n",
    "PostGIS extends PostgreSQL with spatial functions for working with geographic data."
   ]
  },
  {
   "cell_type": "markdown",
   "metadata": {},
   "source": [
    "### 4.1 ST_MakeLine\n",
    "\n",
    "`ST_MakeLine` creates a LineString from Point geometries:\n",
    "\n",
    "```sql\n",
    "SELECT ST_MakeLine(geom ORDER BY time) AS geom\n",
    "FROM ch11.aussie_track_points\n",
    "GROUP BY track_period;\n",
    "```\n",
    "\n",
    "This creates a line by connecting points in order of their timestamp."
   ]
  },
  {
   "cell_type": "markdown",
   "metadata": {},
   "source": [
    "### 4.2 ST_Union\n",
    "\n",
    "`ST_Union` combines multiple geometries into a single geometry:\n",
    "\n",
    "```sql\n",
    "-- Aggregate city geometries\n",
    "CREATE TABLE ch11.boroughs_city AS\n",
    "SELECT ST_Union(geom) AS geom\n",
    "FROM ch11.boroughs;\n",
    "```\n",
    "\n",
    "The `ST_Union` function can also take a tolerance parameter for simplification:\n",
    "\n",
    "```sql\n",
    "-- New York City unified with 500-foot grid\n",
    "CREATE TABLE ch11.boroughs_citi_500 AS \n",
    "SELECT ST_Union(geom, 500) AS geom\n",
    "FROM ch11.boroughs;\n",
    "```"
   ]
  },
  {
   "cell_type": "markdown",
   "metadata": {},
   "source": [
    "### 4.3 ST_NPoints and ST_NumGeometries\n",
    "\n",
    "`ST_NPoints` counts the number of points in a geometry:\n",
    "\n",
    "```sql\n",
    "SELECT ST_NPoints(geom) AS np\n",
    "FROM ch11.aussie_run;\n",
    "```\n",
    "\n",
    "`ST_NumGeometries` counts the number of geometries in a multi-geometry:\n",
    "\n",
    "```sql\n",
    "SELECT ST_NumGeometries(ST_Union(geom)) AS num_poly_after\n",
    "FROM ch11.cities\n",
    "GROUP BY city;\n",
    "```"
   ]
  },
  {
   "cell_type": "markdown",
   "metadata": {},
   "source": [
    "### 4.4 ST_Length\n",
    "\n",
    "`ST_Length` calculates the length of a LineString. When used with `::geography` casting, it returns the length in meters:\n",
    "\n",
    "```sql\n",
    "SELECT CAST(ST_Length(geom::geography) AS integer) AS dist_m\n",
    "FROM ch11.aussie_run;\n",
    "```"
   ]
  },
  {
   "cell_type": "markdown",
   "metadata": {},
   "source": [
    "### 4.5 ST_Touches\n",
    "\n",
    "`ST_Touches` checks if two geometries share a boundary but don't overlap:\n",
    "\n",
    "```sql\n",
    "SELECT a.city, a.gid AS gid_1, b.gid AS gid_2\n",
    "FROM ch11.cities a\n",
    "JOIN ch11.cities b \n",
    "ON a.city = b.city  -- Same city name\n",
    "AND a.gid < b.gid  -- Avoid self-join and duplicate pairs\n",
    "AND ST_Touches(a.geom, b.geom);  -- Check if they share a boundary\n",
    "```"
   ]
  },
  {
   "cell_type": "markdown",
   "metadata": {},
   "source": [
    "## 5. Aggregation and Grouping\n",
    "\n",
    "SQL provides powerful aggregation functions and grouping capabilities."
   ]
  },
  {
   "cell_type": "markdown",
   "metadata": {},
   "source": [
    "### 5.1 Basic Aggregation Functions\n",
    "\n",
    "```sql\n",
    "SELECT \n",
    "    MIN(time) AS t_start, \n",
    "    MAX(time) AS t_end\n",
    "FROM ch11.aussie_track_points\n",
    "GROUP BY track_period;\n",
    "```\n",
    "\n",
    "This finds the earliest and latest timestamps for each track period."
   ]
  },
  {
   "cell_type": "markdown",
   "metadata": {},
   "source": [
    "### 5.2 Complex Grouping with Calculated Fields\n",
    "\n",
    "We can group by calculated fields, not just simple columns:\n",
    "\n",
    "```sql\n",
    "SELECT \n",
    "    DATE_TRUNC('minute', time) - \n",
    "        CAST(\n",
    "            mod(CAST(DATE_PART('minute', time) AS integer), 15) || ' minutes' AS interval\n",
    "        ) AS track_period,\n",
    "    MIN(time) AS t_start, \n",
    "    MAX(time) AS t_end,\n",
    "    ST_MakeLine(geom ORDER BY time) AS geom\n",
    "FROM ch11.aussie_track_points\n",
    "GROUP BY track_period;\n",
    "```\n",
    "\n",
    "This groups track points into 15-minute intervals by:\n",
    "1. Truncating the timestamp to the minute\n",
    "2. Calculating the remainder when dividing the minute by 15\n",
    "3. Subtracting that remainder to get the start of the 15-minute interval"
   ]
  },
  {
   "cell_type": "markdown",
   "metadata": {},
   "source": [
    "### 5.3 HAVING Clause\n",
    "\n",
    "The `HAVING` clause filters groups after aggregation:\n",
    "\n",
    "```sql\n",
    "SELECT city, COUNT(city) AS num_records,\n",
    "SUM(ST_NumGeometries(geom)) AS numpoly_before,\n",
    "ST_NumGeometries(ST_Union(geom)) AS num_poly_after\n",
    "FROM ch11.cities\n",
    "GROUP BY city\n",
    "HAVING COUNT(city) > 1;\n",
    "```\n",
    "\n",
    "This finds cities with multiple records and shows the before/after polygon counts when merged."
   ]
  },
  {
   "cell_type": "markdown",
   "metadata": {},
   "source": [
    "## 6. Creating New Tables from Queries\n",
    "\n",
    "PostgreSQL allows creating new tables from query results using the `INTO` clause or `CREATE TABLE AS` statement."
   ]
  },
  {
   "cell_type": "markdown",
   "metadata": {},
   "source": [
    "### 6.1 Using INTO Clause\n",
    "\n",
    "```sql\n",
    "SELECT \n",
    "    DATE_TRUNC('minute',time) -\n",
    "        CAST(\n",
    "            mod(\n",
    "                CAST(DATE_PART('minute',time) AS integer),15\n",
    "            ) ||' minutes' AS interval\n",
    "        ) AS track_period,\n",
    "    MIN(time) AS t_start, \n",
    "    MAX(time) AS t_end, \n",
    "    ST_MakeLine(geom ORDER BY time) AS geom  \n",
    "INTO ch11.aussie_run\n",
    "FROM ch11.aussie_track_points\n",
    "GROUP BY track_period;\n",
    "```\n",
    "\n",
    "This creates a new table `ch11.aussie_run` with the results of the query."
   ]
  },
  {
   "cell_type": "markdown",
   "metadata": {},
   "source": [
    "### 6.2 Using CREATE TABLE AS\n",
    "\n",
    "```sql\n",
    "CREATE TABLE ch11.cities_merged AS\n",
    "SELECT \n",
    "    city,\n",
    "    COUNT(city) AS num_records,\n",
    "    SUM(ST_NumGeometries(geom)) AS numpoly_before,\n",
    "    ST_NumGeometries(ST_Union(geom)) AS num_poly_after,\n",
    "    ST_Union(geom) AS merged_geom\n",
    "FROM ch11.cities\n",
    "GROUP BY city\n",
    "HAVING COUNT(city) > 0;\n",
    "```\n",
    "\n",
    "This creates a new table `ch11.cities_merged` with the results of the query."
   ]
  },
  {
   "cell_type": "markdown",
   "metadata": {},
   "source": [
    "## 7. Practical Example: Tracking Data Analysis\n",
    "\n",
    "Let's put everything together with a practical example from our lecture. This example processes GPS tracking data to create line segments for 15-minute intervals and analyze the results."
   ]
  },
  {
   "cell_type": "markdown",
   "metadata": {},
   "source": [
    "### 7.1 Creating Track Segments\n",
    "\n",
    "```sql\n",
    "-- Create a new table with track segments\n",
    "SELECT \n",
    "    DATE_TRUNC('minute',time) -\n",
    "        CAST(\n",
    "            mod(\n",
    "                CAST(DATE_PART('minute',time) AS integer),15\n",
    "            ) ||' minutes' AS interval\n",
    "        ) AS track_period,\n",
    "    MIN(time) AS t_start, \n",
    "    MAX(time) AS t_end, \n",
    "    ST_MakeLine(geom ORDER BY time) AS geom  \n",
    "INTO ch11.aussie_run\n",
    "FROM ch11.aussie_track_points\n",
    "GROUP BY track_period;\n",
    "```\n",
    "\n",
    "This query:\n",
    "1. Groups track points into 15-minute intervals\n",
    "2. Finds the start and end times for each interval\n",
    "3. Creates a line geometry connecting the points in time order\n",
    "4. Saves the results to a new table"
   ]
  },
  {
   "cell_type": "markdown",
   "metadata": {},
   "source": [
    "### 7.2 Analyzing the Results\n",
    "\n",
    "```sql\n",
    "SELECT \n",
    "    CAST(track_period AS timestamp),\n",
    "    CAST(t_start AS timestamp) AS t_start,    \n",
    "    CAST(t_end AS timestamp) AS t_end, \n",
    "    ST_NPoints(geom) AS np, \n",
    "    CAST(ST_Length(geom::geography) AS integer) AS dist_m, \n",
    "    (t_end - t_start) AS dur               \n",
    "FROM ch11.aussie_run;\n",
    "```\n",
    "\n",
    "This query analyzes the track segments by:\n",
    "1. Converting timestamps to a readable format\n",
    "2. Counting the number of points in each line segment\n",
    "3. Calculating the distance traveled in meters\n",
    "4. Computing the duration of each segment"
   ]
  },
  {
   "cell_type": "markdown",
   "metadata": {},
   "source": [
    "## Summary\n",
    "\n",
    "In this tutorial, we've covered key SQL elements for spatial data processing:\n",
    "\n",
    "1. **Date and Time Functions**: `DATE_TRUNC`, `DATE_PART`\n",
    "2. **Type Casting**: `CAST`, string concatenation with `||`\n",
    "3. **Mathematical Functions**: `MOD`\n",
    "4. **Spatial Functions**: `ST_MakeLine`, `ST_Union`, `ST_NPoints`, `ST_NumGeometries`, `ST_Length`, `ST_Touches`\n",
    "5. **Aggregation**: `MIN`, `MAX`, `COUNT`, `SUM`, `GROUP BY`, `HAVING`\n",
    "6. **Table Creation**: `INTO`, `CREATE TABLE AS`\n",
    "\n",
    "These elements are powerful tools for processing and analyzing spatial data in PostgreSQL with PostGIS."
   ]
  }
 ],
 "metadata": {
  "kernelspec": {
   "display_name": "Python 3",
   "language": "python",
   "name": "python3"
  },
  "language_info": {
   "codemirror_mode": {
    "name": "ipython",
    "version": 3
   },
   "file_extension": ".py",
   "mimetype": "text/x-python",
   "name": "python",
   "nbconvert_exporter": "python",
   "pygments_lexer": "ipython3",
   "version": "3.8.10"
  }
 },
 "nbformat": 4,
 "nbformat_minor": 4
}
